{
 "cells": [
  {
   "cell_type": "code",
   "execution_count": null,
   "metadata": {},
   "outputs": [],
   "source": [
    "import numpy as np\n",
    "import pandas as pd\n",
    "import itertools\n",
    "import matplotlib.pyplot as plt\n",
    "import seaborn as sns\n",
    "import scipy.stats\n",
    "\n",
    "import plotly\n",
    "import plotly.graph_objs as go\n",
    "import plotly.offline as offline\n",
    "from plotly.colors import n_colors\n",
    "import plotly.io as pio\n",
    "\n",
    "pio.templates.default = \"plotly_white\"\n",
    "\n",
    "import peptide_forest\n",
    "pd.set_option(\"max_columns\", 1000)\n",
    "pd.set_option(\"max_rows\", 50)"
   ]
  },
  {
   "cell_type": "code",
   "execution_count": null,
   "metadata": {},
   "outputs": [],
   "source": [
    "tmts = ['126', '127L', '127H', '128L', '128H', '129L', '129H', '130L', '130H', '131L']\n",
    "\n",
    "expected_values = {\n",
    "    \"126\": (0, 1),\n",
    "    \"127L\": (1, 1),\n",
    "    \"127H\": (1, 0),\n",
    "    \"128L\": (0.5, 1),\n",
    "    \"128H\": (0.5, 0),\n",
    "    \"129L\": (0.2, 1),\n",
    "    \"129H\": (0.2, 0),\n",
    "    \"130L\": (0.1, 1),\n",
    "    \"130H\": (0.1, 0),\n",
    "    \"131L\": (1, 1),\n",
    "    #label: (EColi, Human)\n",
    "}\n",
    "\n",
    "# expected_values = {\n",
    "#     \"126\": (0, 1),\n",
    "#     \"127L\": (0.97, 1),\n",
    "#     \"127H\": (1, 0),\n",
    "#     \"128L\": (0.49, 1),\n",
    "#     \"128H\": (0.4, 0),\n",
    "#     \"129L\": (0.15, 1),\n",
    "#     \"129H\": (0.15, 0),\n",
    "#     \"130L\": (0.06, 1),\n",
    "#     \"130H\": (0.07, 0),\n",
    "#     \"131L\": (0.85, 1),\n",
    "#     #label: (EColi, Human)\n",
    "# }\n",
    "\n",
    "\n",
    "# quant_df2 = pd.read_csv(\"../data/E13/_quant_new/04854_F1_R8_P0109699E13_TMT10_quant_pots.csv\", index_col=0)\n",
    "quant_df = pd.read_csv(\"../data/E32/04854_F1_R8_P0109699E32_TMT10_quant_pots.csv\")\n",
    "output = '../01Apr_E13.csv'\n",
    "output = '../01Apr_E32.csv'\n",
    "final_df = pd.read_csv(output)"
   ]
  },
  {
   "cell_type": "code",
   "execution_count": null,
   "metadata": {},
   "outputs": [],
   "source": [
    "all_eng = [\n",
    "    c.split(\"Score_processed_\")[1] for c in final_df.columns if \"Score_processed\" in c\n",
    "]"
   ]
  },
  {
   "cell_type": "code",
   "execution_count": null,
   "metadata": {},
   "outputs": [],
   "source": [
    "quant_df.rename(columns={'spectrum_id': 'Spectrum ID'}, inplace=True)"
   ]
  },
  {
   "cell_type": "code",
   "execution_count": null,
   "metadata": {},
   "outputs": [],
   "source": [
    "quant_df.head()"
   ]
  },
  {
   "cell_type": "code",
   "execution_count": null,
   "metadata": {},
   "outputs": [],
   "source": [
    "quant_df.rename(\n",
    "    columns={\n",
    "        'spectrum_id': 'Spectrum ID',\n",
    "    }, \n",
    "    inplace=True\n",
    ")"
   ]
  },
  {
   "cell_type": "code",
   "execution_count": null,
   "metadata": {},
   "outputs": [],
   "source": [
    "qdf = quant_df.pivot(index='Spectrum ID', columns='label', values='quant_value')"
   ]
  },
  {
   "cell_type": "code",
   "execution_count": null,
   "metadata": {},
   "outputs": [],
   "source": [
    "for l1, l2 in itertools.combinations(qdf.columns, 2):\n",
    "    qdf[f'log2({l1}/{l2})'] = np.log2(qdf[l1]/qdf[l2])"
   ]
  },
  {
   "cell_type": "code",
   "execution_count": null,
   "metadata": {},
   "outputs": [],
   "source": [
    "qdf.head()"
   ]
  },
  {
   "cell_type": "code",
   "execution_count": null,
   "metadata": {},
   "outputs": [],
   "source": [
    "qdf.loc[13211, :]"
   ]
  },
  {
   "cell_type": "code",
   "execution_count": null,
   "metadata": {},
   "outputs": [],
   "source": [
    "qdf.describe()"
   ]
  },
  {
   "cell_type": "code",
   "execution_count": null,
   "metadata": {},
   "outputs": [],
   "source": [
    "# Add species column\n",
    "def determine_species(row):\n",
    "    code = 0\n",
    "    if \"HUMAN\" in row[\"Protein ID\"]:\n",
    "        code += 1  # 2^^0\n",
    "    if \"ECOLI\" in row[\"Protein ID\"]:\n",
    "        code += 2  # 2^^1\n",
    "    if \"cont\" in row[\"Protein ID\"]:\n",
    "        code += 4  # 2^^2\n",
    "    return code\n",
    "\n",
    "final_df[\"species code\"] = final_df.apply(determine_species, axis=1)\n"
   ]
  },
  {
   "cell_type": "code",
   "execution_count": null,
   "metadata": {},
   "outputs": [],
   "source": [
    "final_df.head()"
   ]
  },
  {
   "cell_type": "code",
   "execution_count": null,
   "metadata": {},
   "outputs": [],
   "source": [
    "m = pd.merge(final_df, qdf, on=\"Spectrum ID\", right_index=False).reset_index(drop=True)"
   ]
  },
  {
   "cell_type": "code",
   "execution_count": null,
   "metadata": {},
   "outputs": [],
   "source": [
    "m.head()"
   ]
  },
  {
   "cell_type": "code",
   "execution_count": null,
   "metadata": {},
   "outputs": [],
   "source": [
    "q_val_cuts = np.logspace(-4, -1, num=4)\n",
    "sorted(q_val_cuts, reverse=True)"
   ]
  },
  {
   "cell_type": "code",
   "execution_count": null,
   "metadata": {},
   "outputs": [],
   "source": [
    "for cut in sorted(q_val_cuts, reverse=True):\n",
    "    for eng in all_eng:\n",
    "        idx_below_cut_off_for_e = m[m[f'q-value_{eng}'] <= cut].index\n",
    "        eng_per_q_col = f\"top_target_{eng}_at_{cut}\"\n",
    "        m[eng_per_q_col] = False\n",
    "        m.loc[idx_below_cut_off_for_e, eng_per_q_col] = True\n",
    "            "
   ]
  },
  {
   "cell_type": "code",
   "execution_count": null,
   "metadata": {},
   "outputs": [],
   "source": [
    "m[m[eng_per_q_col]].head()"
   ]
  },
  {
   "cell_type": "markdown",
   "metadata": {},
   "source": [
    "# Version 1"
   ]
  },
  {
   "cell_type": "markdown",
   "metadata": {},
   "source": [
    "## To visualize the data for on searchengine at one q-level"
   ]
  },
  {
   "cell_type": "code",
   "execution_count": null,
   "metadata": {},
   "outputs": [],
   "source": [
    "mask = m['top_target_mascot_1_0_0_at_0.01'] & (m['species code'] == 2) & (~m['Is decoy'])\n",
    "# mask = m['top_target_msfragger_20190222'] & (m['species code'] == 2)"
   ]
  },
  {
   "cell_type": "code",
   "execution_count": null,
   "metadata": {},
   "outputs": [],
   "source": [
    "l_1 = '127L' # 1\n",
    "l_2 = '130L' # 0.1\n",
    "expected = np.log2(1/0.1)"
   ]
  },
  {
   "cell_type": "code",
   "execution_count": null,
   "metadata": {},
   "outputs": [],
   "source": [
    "ion_sum = np.log10(1e7 / (m[mask][l_1] + m[mask][l_2]))\n",
    "log_min = np.floor(ion_sum.min())\n",
    "log_max = np.ceil(ion_sum.max())\n",
    "labels = np.logspace(log_min, log_max, num=10)\n",
    "ddf = pd.DataFrame(\n",
    "    {\n",
    "        'ion_sum' : ion_sum, \n",
    "        'cat' : pd.cut(ion_sum, bins=10, labels=labels),\n",
    "        f'log2({l_1}/{l_2})' : np.log2(m[mask][l_1] / m[mask][l_2])\n",
    "    }\n",
    ")"
   ]
  },
  {
   "cell_type": "code",
   "execution_count": null,
   "metadata": {},
   "outputs": [],
   "source": [
    "labels"
   ]
  },
  {
   "cell_type": "code",
   "execution_count": null,
   "metadata": {},
   "outputs": [],
   "source": [
    "np.log10(labels)"
   ]
  },
  {
   "cell_type": "code",
   "execution_count": null,
   "metadata": {},
   "outputs": [],
   "source": [
    "colors = n_colors('rgb(5, 200, 200)', 'rgb(200, 10, 10)', 10, colortype='rgb')\n",
    "\n",
    "fig = go.Figure()\n",
    "for color, (name, grp) in zip(colors, ddf.groupby('cat')):\n",
    "# for data_line, color in zip(data, colors):\n",
    "    fig.add_trace(\n",
    "        go.Violin(\n",
    "            x=grp[f'log2({l_1}/{l_2})'], \n",
    "            line_color=color,\n",
    "            name=\"Bin {0:.3f}\".format(np.log10(name))\n",
    "        )\n",
    "    )\n",
    "    print(f'Group bin @ {np.log10(name)} has {grp.shape[0]} elements')\n",
    "fig.add_shape(\n",
    "    dict(\n",
    "        type=\"line\",\n",
    "        x0=expected,\n",
    "        y0=log_min,\n",
    "        x1=expected,\n",
    "        y1=log_max,\n",
    "        line=dict(\n",
    "            color=\"Black\",\n",
    "            width=1\n",
    "        )\n",
    "))\n",
    "fig.update_traces(orientation='h', side='positive', width=3, points=False)\n",
    "fig.update_layout(\n",
    "    xaxis_showgrid=False, \n",
    "    xaxis_zeroline=False,\n",
    "    xaxis_title=f'log2({l_1}/{l_2})', \n",
    "    yaxis_title=f'log10(1e7/({l_1} + {l_2}))')\n",
    "fig.show()\n",
    "\n"
   ]
  },
  {
   "cell_type": "markdown",
   "metadata": {},
   "source": [
    "# Version 2"
   ]
  },
  {
   "cell_type": "markdown",
   "metadata": {},
   "source": [
    "## delta expected - observed as heatmaps"
   ]
  },
  {
   "cell_type": "code",
   "execution_count": null,
   "metadata": {},
   "outputs": [],
   "source": [
    "q_val_cuts = np.logspace(-4, -1, num=4)\n",
    "for l_1, l_2 in itertools.combinations(expected_values.keys(), 2):\n",
    "    if 0 in expected_values[l_1] + expected_values[l_2]:\n",
    "        continue\n",
    "\n",
    "    m['ion_sum'] = np.log10(1e7 / (m[l_1] + m[l_2]))\n",
    "    log_min = np.floor(m['ion_sum'].min())\n",
    "    log_max = np.ceil(m['ion_sum'].max())\n",
    "    labels = np.logspace(log_min, log_max, num=10)\n",
    "    m['cat'] = pd.cut(m['ion_sum'], bins=10, labels=labels)\n",
    "\n",
    "    expected = np.log2(expected_values[l_1][0] / expected_values[l_2][0])\n",
    "    print(l_1, l_2, 'expected:',expected, expected_values[l_1], expected_values[l_2])\n",
    "    \n",
    "    for cut in sorted(q_val_cuts, reverse=True):\n",
    "        z = []\n",
    "        y = []\n",
    "        hovertext = []\n",
    "\n",
    "        for eng in all_eng:\n",
    "            eng_per_q_col = f\"top_target_{eng}_at_{cut}\"\n",
    "            mask = m[eng_per_q_col] & (m['species code'] == 2) & (~m['Is decoy'])\n",
    "            values = []\n",
    "            hovertext.append([])\n",
    "            for name, grp in m[mask].groupby('cat'):\n",
    "                values.append(expected - grp[f'log2({l_1}/{l_2})'].mean())\n",
    "                hovertext[-1].append('n:{0}<br />delta mean:{1}<br />mean:{2}<br />'.format(\n",
    "                    grp.shape[0],\n",
    "                    expected - grp[f'log2({l_1}/{l_2})'].mean(),\n",
    "                    grp[f'log2({l_1}/{l_2})'].mean()\n",
    "                ))\n",
    "            z.append(values)\n",
    "            y.append(eng)\n",
    "\n",
    "        fig = go.Figure(\n",
    "            data=go.Heatmap(\n",
    "                z=z,\n",
    "                x=np.log10(labels),\n",
    "                y=y,\n",
    "                colorscale='rdylgn_r',\n",
    "                text=hovertext,\n",
    "                hoverinfo = \"text\"\n",
    "            )\n",
    "        )\n",
    "\n",
    "        fig.update_layout(\n",
    "            title=f'Difference to expected ratio of {expected:.3f} at q-values <= {cut}',\n",
    "            xaxis_title=f'log10(1e7/({l_1}+{l_2}))', \n",
    "#             yaxis_title=f'log10(1e7/({l_1} + {l_2}))')\n",
    "        )\n",
    "\n",
    "        fig.show()\n",
    "\n",
    "\n",
    "        break\n",
    "    break"
   ]
  },
  {
   "cell_type": "markdown",
   "metadata": {},
   "source": [
    "# Version 3"
   ]
  },
  {
   "cell_type": "markdown",
   "metadata": {},
   "source": [
    "## Statistical evaluation"
   ]
  },
  {
   "cell_type": "code",
   "execution_count": null,
   "metadata": {},
   "outputs": [],
   "source": [
    "# import scipy.stats\n",
    "\n",
    "# q_val_cuts = np.logspace(-4, -2, num=3)\n",
    "# print(\"Kruskal-Wallis H-test\")\n",
    "# for l_1, l_2 in itertools.combinations(expected_values.keys(), 2):\n",
    "#     if 0 in expected_values[l_1] + expected_values[l_2]:\n",
    "#         continue\n",
    "\n",
    "#     m['ion_sum'] = np.log10(1e7 / (m[l_1] + m[l_2]))\n",
    "#     log_min = np.floor(m['ion_sum'].min())\n",
    "#     log_max = np.ceil(m['ion_sum'].max())\n",
    "#     labels = np.logspace(log_min, log_max, num=10)\n",
    "#     m['cat'] = pd.cut(m['ion_sum'], bins=10, labels=labels)\n",
    "#     m.sort_values(['cat'], inplace=True)\n",
    "    \n",
    "#     expected = np.log2(expected_values[l_1][0] / expected_values[l_2][0])\n",
    "#     print(l_1, l_2, 'expected:',expected, expected_values[l_1], expected_values[l_2])\n",
    "    \n",
    "#     for cut in sorted(q_val_cuts, reverse=False):\n",
    "#         print(f\"Q-value cut {cut}\")\n",
    "#         for category in sorted(m['cat'].unique()):\n",
    "#             all_distributions = []\n",
    "#             worthy = True\n",
    "#             for eng in all_eng:\n",
    "#                 eng_per_q_col = f\"top_target_{eng}_at_{cut}\"\n",
    "#                 mask = m[eng_per_q_col] & (m['species code'] == 2) & (~m['Is decoy']) & (m['cat'] == category)\n",
    "#                 if m[mask][f'log2({l_1}/{l_2})'].empty:\n",
    "#                     continue\n",
    "#                 if m[mask][f'log2({l_1}/{l_2})'].values.size < 5:\n",
    "#                     continue\n",
    "#                 all_distributions.append(\n",
    "#                     np.copy(m[mask][f'log2({l_1}/{l_2})'].values)\n",
    "#                 )\n",
    "# #                 if all_distributions[-1].size < 5:\n",
    "# #                     worthy = False\n",
    "#             if len(all_distributions) < 3:\n",
    "#                 worthy = False\n",
    "#             if not worthy:\n",
    "#                 print(f\"Not enough samples at q-value {cut:.6f}, intensity bin {np.log10(category):.3f}\")\n",
    "#             else:\n",
    "#                 statistic, pvalue = scipy.stats.kruskal(\n",
    "#                     *all_distributions\n",
    "#                 )\n",
    "#                 print(f\"At q-value {cut:.6f}, intensity bin {np.log10(category):.3f} gives p-value {pvalue:.3f}\")\n",
    "# #             if pvalue <= 0.01:\n",
    "# #                 print(\"<\")\n",
    "# #                 for eng1, eng2 in itertools.combinations(all_eng, 2):\n",
    "# #                     eng1_per_q_col = f\"top_target_{eng1}_at_{cut}\"\n",
    "# #                     mask1 = m[eng1_per_q_col] & (m['species code'] == 2) & (~m['Is decoy']) & (m['cat'] == category)\n",
    "# #                     eng2_per_q_col = f\"top_target_{eng2}_at_{cut}\"\n",
    "# #                     mask2 = m[eng2_per_q_col] & (m['species code'] == 2) & (~m['Is decoy']) & (m['cat'] == category)\n",
    "\n",
    "# #                     if m[mask1][f'log2({l_1}/{l_2})'].values.size < 20 or m[mask2][f'log2({l_1}/{l_2})'].values.size < 20 :\n",
    "# #                         print(f\"not enough samples to compare distributions from {eng1} & {eng2}\")\n",
    "# #                         continue\n",
    "# #                     else:\n",
    "# #                         statistic, pvalue = scipy.stats.mannwhitneyu(\n",
    "# #                             m[mask1][f'log2({l_1}/{l_2})'].values,\n",
    "# #                             m[mask2][f'log2({l_1}/{l_2})'].values\n",
    "# #                         )\n",
    "# #                         print(f\">> Mann-Whitney-U p-value {eng1:>30} vs {eng2:30}: {pvalue:.4f}\")\n",
    "\n",
    "#                 break\n",
    "#             break\n",
    "#         break\n",
    "#     break"
   ]
  },
  {
   "cell_type": "code",
   "execution_count": null,
   "metadata": {},
   "outputs": [],
   "source": [
    "cut = 0.01\n",
    "eng1 = \"mascot_1_0_0\"\n",
    "eng2 = \"RF-reg\"\n",
    "eng1_per_q_col = f\"top_target_{eng1}_at_{cut}\"\n",
    "for category in sorted(m['cat'].unique()):\n",
    "    mask1 = m[eng1_per_q_col] & (m['species code'] == 2) & (~m['Is decoy']) & (m['cat'] == category)\n",
    "    eng2_per_q_col = f\"top_target_{eng2}_at_{cut}\"\n",
    "    mask2 = m[eng2_per_q_col] & (m['species code'] == 2) & (~m['Is decoy']) & (m['cat'] == category)\n",
    "\n",
    "    if m[mask1][f'log2({l_1}/{l_2})'].values.size < 5 or m[mask2][f'log2({l_1}/{l_2})'].values.size < 5 :\n",
    "    #                     print(f\"not enough samples to compare distributions from {eng1} & {eng2}\")\n",
    "    #                     continue\n",
    "        pvalue = np.nan\n",
    "    else:\n",
    "    #                     funct = scipy.stats.mannwhitneyu\n",
    "        funct = scipy.stats.ks_2samp\n",
    "        statistic, pvalue = funct(\n",
    "            m[mask1][f'log2({l_1}/{l_2})'].values,\n",
    "            m[mask2][f'log2({l_1}/{l_2})'].values\n",
    "        )\n",
    "        print(f\">> Kolmogorov-Smirnov {eng1:>9} vs {eng2:9} -log(p-value) : {-1*np.log(pvalue):.4f}\")\n"
   ]
  },
  {
   "cell_type": "code",
   "execution_count": null,
   "metadata": {},
   "outputs": [],
   "source": [
    "dfdf = []\n",
    "\n",
    "q_val_cuts = np.logspace(-4, -2, num=3)\n",
    "for l_1, l_2 in itertools.combinations(expected_values.keys(), 2):\n",
    "    if 0 in expected_values[l_1] + expected_values[l_2]:\n",
    "        continue\n",
    "\n",
    "    m['ion_sum'] = np.log10(1e7 / (m[l_1] + m[l_2]))\n",
    "    log_min = np.floor(m['ion_sum'].min())\n",
    "    log_max = np.ceil(m['ion_sum'].max())\n",
    "    labels = np.logspace(log_min, log_max, num=10)\n",
    "    m['cat'] = pd.cut(m['ion_sum'], bins=10, labels=labels)\n",
    "    m.sort_values(['cat'], inplace=True)\n",
    "    \n",
    "    expected = np.log2(expected_values[l_1][0] / expected_values[l_2][0])\n",
    "    print(l_1, l_2, 'expected:',expected, expected_values[l_1], expected_values[l_2])\n",
    "    \n",
    "    for cut in sorted(q_val_cuts, reverse=False):\n",
    "        \n",
    "        for category in sorted(m['cat'].unique()):\n",
    "#             print(f\"Q-value cut {cut} and cat\", np.log10(category))\n",
    "            all_distributions = []\n",
    "            worthy = True\n",
    "#             print(\"Category:\", np.log10(category))\n",
    "            for eng1, eng2 in itertools.combinations(all_eng, 2):\n",
    "                eng1_per_q_col = f\"top_target_{eng1}_at_{cut}\"\n",
    "                mask1 = m[eng1_per_q_col] & (m['species code'] == 2) & (~m['Is decoy']) & (m['cat'] == category)\n",
    "                eng2_per_q_col = f\"top_target_{eng2}_at_{cut}\"\n",
    "                mask2 = m[eng2_per_q_col] & (m['species code'] == 2) & (~m['Is decoy']) & (m['cat'] == category)\n",
    "\n",
    "                if m[mask1][f'log2({l_1}/{l_2})'].values.size < 5 or m[mask2][f'log2({l_1}/{l_2})'].values.size < 5 :\n",
    "#                     print(f\"not enough samples to compare distributions from {eng1} & {eng2}\")\n",
    "#                     continue\n",
    "                    pvalue = np.nan\n",
    "                else:\n",
    "#                     funct = scipy.stats.mannwhitneyu\n",
    "                    funct = scipy.stats.ks_2samp\n",
    "                    statistic, pvalue = funct(\n",
    "                        m[mask1][f'log2({l_1}/{l_2})'].values,\n",
    "                        m[mask2][f'log2({l_1}/{l_2})'].values\n",
    "                    )\n",
    "                \n",
    "#                     print(f\">> Kolmogorov-Smirnov {eng1:>30} vs {eng2:30} p-value : {pvalue:.4f}\")\n",
    "                    \n",
    "                dfdf.append(\n",
    "                    {\n",
    "                        \"comparison\" : f\"{eng1}_vs_{eng2}\",\n",
    "                        \"pvalue\": pvalue,\n",
    "                        \"qvalue_cut\": cut,\n",
    "                        \"cat\": np.log10(category),\n",
    "                        \"ratio\": f'log2({l_1}/{l_2})'\n",
    "                    }\n",
    "                )\n",
    "#         break\n",
    "#     break"
   ]
  },
  {
   "cell_type": "code",
   "execution_count": null,
   "metadata": {},
   "outputs": [],
   "source": [
    "dfdf = pd.DataFrame(dfdf)"
   ]
  },
  {
   "cell_type": "code",
   "execution_count": null,
   "metadata": {},
   "outputs": [],
   "source": [
    "dfdf.head()"
   ]
  },
  {
   "cell_type": "code",
   "execution_count": null,
   "metadata": {},
   "outputs": [],
   "source": [
    "dfdf['-log(p-value)'] = -1 * np.log10(dfdf['pvalue'])\n",
    "dfdf['comparison_at_qvalue'] = dfdf['qvalue_cut'].astype(str) + \"_@_\" + dfdf['comparison'] + \"//\" + dfdf['ratio']"
   ]
  },
  {
   "cell_type": "code",
   "execution_count": null,
   "metadata": {},
   "outputs": [],
   "source": [
    "dfdf.sort_values([\"comparison_at_qvalue\"], inplace=True, ascending=False)"
   ]
  },
  {
   "cell_type": "code",
   "execution_count": null,
   "metadata": {},
   "outputs": [],
   "source": [
    "for name, grp in dfdf.groupby([\"qvalue_cut\", \"ratio\"]):\n",
    "    fig = go.Figure(\n",
    "        data=go.Heatmap(\n",
    "            z=grp['-log(p-value)'],\n",
    "#             z=grp['pvalue'],\n",
    "            x=grp['cat'],\n",
    "            y=grp['comparison'],\n",
    "            colorscale=[[0, \"rgb(166,206,227)\"],\n",
    "                [0.25, \"rgb(31,120,180)\"],\n",
    "                [0.45, \"rgb(178,223,138)\"],\n",
    "                [0.65, \"rgb(51,160,44)\"],\n",
    "                [0.85, \"rgb(251,154,153)\"],\n",
    "                [1, \"rgb(227,26,28)\"]],\n",
    "            colorbar=dict(\n",
    "                title=\"-log(p-value)\",\n",
    "                titleside=\"top\",\n",
    "                tickmode=\"array\",\n",
    "                tickvals=[-1*np.log10(0.05), -1*np.log10(0.01), -1*np.log10(0.001)],\n",
    "                ticktext=[\"*: -log(0.05)\", \"**: -log(0.01)\", \"***: -log(0.001)\"],\n",
    "                ticks=\"outside\"\n",
    "            )\n",
    "        )\n",
    "    )\n",
    "    fig.update_layout(\n",
    "        title=f\"@{name}\"\n",
    "    )\n",
    "    fig.show()"
   ]
  },
  {
   "cell_type": "code",
   "execution_count": null,
   "metadata": {},
   "outputs": [],
   "source": []
  },
  {
   "cell_type": "code",
   "execution_count": null,
   "metadata": {},
   "outputs": [],
   "source": []
  },
  {
   "cell_type": "code",
   "execution_count": null,
   "metadata": {},
   "outputs": [],
   "source": []
  },
  {
   "cell_type": "code",
   "execution_count": null,
   "metadata": {},
   "outputs": [],
   "source": []
  },
  {
   "cell_type": "code",
   "execution_count": null,
   "metadata": {},
   "outputs": [],
   "source": [
    "-1 * np.log10(0.01)"
   ]
  },
  {
   "cell_type": "code",
   "execution_count": null,
   "metadata": {},
   "outputs": [],
   "source": [
    "dfdf.sort_values(['-log(p-value)'], ascending=False).head()"
   ]
  },
  {
   "cell_type": "code",
   "execution_count": null,
   "metadata": {},
   "outputs": [],
   "source": [
    "dfdf.head()"
   ]
  },
  {
   "cell_type": "markdown",
   "metadata": {},
   "source": [
    "## Violin plots for all engines"
   ]
  },
  {
   "cell_type": "code",
   "execution_count": null,
   "metadata": {},
   "outputs": [],
   "source": [
    "q_val_cuts = np.logspace(-4, -2, num=3)\n",
    "for l_1, l_2 in itertools.combinations(expected_values.keys(), 2):\n",
    "    if 0 in expected_values[l_1] + expected_values[l_2]:\n",
    "        continue\n",
    "\n",
    "    m['ion_sum'] = np.log10(1e7 / (m[l_1] + m[l_2]))\n",
    "    log_min = np.floor(m['ion_sum'].min())\n",
    "    log_max = np.ceil(m['ion_sum'].max())\n",
    "    labels = np.logspace(log_min, log_max, num=10)\n",
    "    m['cat'] = pd.cut(m['ion_sum'], bins=10, labels=labels)\n",
    "    m.sort_values(['cat'], inplace=True)\n",
    "    \n",
    "    expected = np.log2(expected_values[l_1][0] / expected_values[l_2][0])\n",
    "    print(l_1, l_2, 'expected:',expected, expected_values[l_1], expected_values[l_2])\n",
    "    \n",
    "    for cut in sorted(q_val_cuts, reverse=True):\n",
    "        z = []\n",
    "        y = []\n",
    "        fig = go.Figure()\n",
    "        fig.add_shape(\n",
    "            dict(\n",
    "                type=\"line\",\n",
    "                x0=log_min,\n",
    "                y0=expected,\n",
    "                x1=log_max,\n",
    "                y1=expected,\n",
    "                line=dict(\n",
    "                    color=\"grey\",\n",
    "                    width=1\n",
    "                )\n",
    "        ))\n",
    "        for eng in all_eng:\n",
    "            eng_per_q_col = f\"top_target_{eng}_at_{cut}\"\n",
    "            mask = m[eng_per_q_col] & (m['species code'] == 2) & (~m['Is decoy'])\n",
    "            \n",
    "            fig.add_trace(\n",
    "                go.Violin(\n",
    "                    x = np.log10(m[mask]['cat'].astype(float)), # intensity log sum bins\n",
    "                    y = m[mask][f'log2({l_1}/{l_2})'], # log2 ratios\n",
    "                    legendgroup=eng, \n",
    "                    scalegroup=eng, \n",
    "                    name='{0} n:{1}'.format(eng, len(m[mask])),\n",
    "\n",
    "                )\n",
    "            )\n",
    "        \n",
    "        fig.update_layout(\n",
    "            title=f'Expected ratio of {expected:.3f} at q-values <= {cut}',\n",
    "            xaxis_title=f'log10(1e7/({l_1}+{l_2}))', \n",
    "            yaxis_title=f'log2({l_1}/{l_2})'\n",
    "        )\n",
    "        fig.update_traces(\n",
    "            box_visible=True, \n",
    "            meanline_visible=True,\n",
    "            points='all', # show all points\n",
    "            jitter=0.25,  # add some jitter on points for better visibility\n",
    "            scalemode='count'\n",
    "        )\n",
    "        fig.update_layout(violinmode='group')\n",
    "        fig.show()\n",
    "\n",
    "\n",
    "        break\n",
    "#     break"
   ]
  },
  {
   "cell_type": "markdown",
   "metadata": {},
   "source": [
    "# playground below"
   ]
  },
  {
   "cell_type": "code",
   "execution_count": null,
   "metadata": {},
   "outputs": [],
   "source": []
  },
  {
   "cell_type": "code",
   "execution_count": null,
   "metadata": {},
   "outputs": [],
   "source": [
    "_d = m[mask]\n",
    "\n",
    "data = go.Scattergl(\n",
    "    x=np.log10(1e7 / (_d[l_1] + _d[l_2])), \n",
    "    y=_d[f'log2({l_1}/{l_2})'],\n",
    "    mode='markers',\n",
    "#     marker=dict(\n",
    "#         size=3,\n",
    "#         color=df.loc[subset.index, c],\n",
    "#         colorscale='rdylgn',\n",
    "#         showscale=True\n",
    "#     ),\n",
    "#     hovertext = \"Q-values<br />\" + \\\n",
    "#     \"Mascot:    \" + df.loc[subset.index, \"q-value_mascot_1_0_0\"].astype(str) + \"<br />\" + \\\n",
    "#     \"OMSSA:     \" + df.loc[subset.index, \"q-value_omssa_2_1_9\"].astype(str) + \"<br />\" + \\\n",
    "#     \"MSGF+:     \" + df.loc[subset.index, \"q-value_msgfplus_v2018_06_28\"].astype(str) + \"<br />\" + \\\n",
    "#     \"X!Tandem:  \" + df.loc[subset.index, \"q-value_xtandem_vengeance\"].astype(str) + \"<br />\" + \\\n",
    "#     \"MSFragger: \" + df.loc[subset.index, \"q-value_msfragger_20190222\"].astype(str) + \"<br />\" + \\\n",
    "#     \"RF:        \" + df.loc[subset.index, \"q-value_RF-reg\"].astype(str) + \"<br />\" + \\\n",
    "#     \"Spectrum ID: \" + df.loc[subset.index, 'Spectrum ID'].astype(str)\n",
    "#     ,\n",
    "#     hoverinfo = \"text\"\n",
    ")\n",
    "# data.on_click(copy_to_clipboard)\n",
    "fig = go.Figure(\n",
    "    data=data\n",
    ")\n",
    "\n",
    "fig.update_layout(template=\"plotly_white\", title=\">>\")\n",
    "fig.show()"
   ]
  },
  {
   "cell_type": "code",
   "execution_count": null,
   "metadata": {},
   "outputs": [],
   "source": []
  },
  {
   "cell_type": "code",
   "execution_count": null,
   "metadata": {},
   "outputs": [],
   "source": []
  },
  {
   "cell_type": "markdown",
   "metadata": {},
   "source": [
    "# Seaborn below"
   ]
  },
  {
   "cell_type": "code",
   "execution_count": null,
   "metadata": {},
   "outputs": [],
   "source": [
    "#quant_df[\"MSMS_ID\"] = quant_df[\"MSMS_ID\"].str.lstrip(\"F0\")\n",
    "quant_df[\"MSMS_ID\"] = quant_df[\"spectrum_id\"]\n",
    "unique_spec_ids = final_df[\"Spectrum ID\"].drop_duplicates()\n",
    "ma_df = pd.DataFrame(index=unique_spec_ids)\n",
    "\n",
    "q_val_cuts = sorted([float(f\"1e-{j}\") for j in np.arange(4, 1, -1)]) + [1e-1]\n",
    "\n",
    "# final_df = peptide_forest.results.calc_all_final_q_vals(\n",
    "#     df=final_df, frac_tp=0.9, top_psm_only=True, initial_engine=None\n",
    "# )\n",
    "\n",
    "all_eng = [\n",
    "    c.split(\"Score_processed_\")[1] for c in final_df.columns if \"Score_processed\" in c\n",
    "]\n",
    "for cut in q_val_cuts:\n",
    "    for eng in all_eng:\n",
    "        eng_per_q_col = f\"top_target_{eng}_at_{cut}\"\n",
    "        target_col = f\"top_target_{eng}\"\n",
    "        marked_targets = peptide_forest.results.mark_top_targets(\n",
    "            df=final_df, q_cut=cut\n",
    "        )[[target_col, \"Spectrum ID\"]]\n",
    "        marked_targets = marked_targets[marked_targets[target_col]][\"Spectrum ID\"]\n",
    "        ma_df[eng_per_q_col] = False\n",
    "        ma_df.loc[marked_targets, eng_per_q_col] = True\n"
   ]
  },
  {
   "cell_type": "code",
   "execution_count": null,
   "metadata": {},
   "outputs": [],
   "source": [
    "# Drop rows that never appear as top target\n",
    "top_target_cols = [c for c in ma_df.columns if \"top_target\" in c]\n",
    "ma_df[top_target_cols] = ma_df[top_target_cols].astype(bool)\n",
    "ma_df = ma_df[ma_df[top_target_cols].any(axis=1)]"
   ]
  },
  {
   "cell_type": "code",
   "execution_count": null,
   "metadata": {},
   "outputs": [],
   "source": [
    "# Generate all and any engines\n",
    "for cut in q_val_cuts:\n",
    "    eng_cols_per_cut = [f\"top_target_{engine}_at_{cut}\" for engine in all_eng]\n",
    "\n",
    "    ma_df[f\"top_target_any_engine_at_{cut}\"] = False\n",
    "    ma_df.loc[\n",
    "        ma_df[eng_cols_per_cut].any(axis=1), f\"top_target_any_engine_at_{cut}\"\n",
    "    ] = True\n",
    "\n",
    "    ma_df[f\"top_target_all_engines_at_{cut}\"] = False\n",
    "    ma_df.loc[\n",
    "        ma_df[eng_cols_per_cut].all(axis=1), f\"top_target_all_engines_at_{cut}\"\n",
    "    ] = True"
   ]
  },
  {
   "cell_type": "code",
   "execution_count": null,
   "metadata": {},
   "outputs": [],
   "source": [
    "all_eng = all_eng + [\"all_engines\", \"any_engine\"]\n",
    "\n",
    "for t in tmts:\n",
    "    values = quant_df[quant_df[\"label\"] == t][[\"MSMS_ID\", \"quant_value\"]].astype({\"MSMS_ID\": \"int64\", \"quant_value\": \"float64\"})\n",
    "    # Remove missing spectra\n",
    "    values = values[values[\"MSMS_ID\"].isin(ma_df.index)]\n",
    "    ma_df.loc[values[\"MSMS_ID\"], t] = values[\"quant_value\"].to_list()\n"
   ]
  },
  {
   "cell_type": "code",
   "execution_count": null,
   "metadata": {},
   "outputs": [],
   "source": [
    "# Remove all SpecIDs where quant value is 0 in a mixed column\n",
    "mixed_cols = [\"127L\", \"128L\", \"129L\", \"130L\", \"131L\"]\n",
    "ma_df = ma_df[~ma_df[mixed_cols].any(axis=1) == 0]\n",
    "\n",
    "# Remove all nan rows\n",
    "ma_df = ma_df[~ma_df[tmts].isna().all(axis=1)]"
   ]
  },
  {
   "cell_type": "code",
   "execution_count": null,
   "metadata": {},
   "outputs": [],
   "source": [
    "quotients = list(itertools.combinations(tmts, 2))\n",
    "\n",
    "# [TRISTAN] temp\n",
    "all_eng = [\"all_engines\", \"any_engine\", \"RF-reg\", \"omssa_2_1_9\"]"
   ]
  },
  {
   "cell_type": "code",
   "execution_count": null,
   "metadata": {},
   "outputs": [],
   "source": [
    "for ratio in quotients:\n",
    "    for species in [2, 4]:\n",
    "        if (\n",
    "            species == \"E_coli\"\n",
    "            and expected_values[ratio[1]][0] != 0\n",
    "            and expected_values[ratio[0]][0] != 0\n",
    "        ):\n",
    "            exp_y = np.log2(expected_values[ratio[0]][0] / expected_values[ratio[1]][0])\n",
    "        elif (\n",
    "            species == \"H_sapiens\"\n",
    "            and expected_values[ratio[1]][1] != 0\n",
    "            and expected_values[ratio[0]][1] != 0\n",
    "        ):\n",
    "            exp_y = np.log2(expected_values[ratio[0]][1] / expected_values[ratio[1]][1])\n",
    "        else:\n",
    "            continue\n",
    "        species_df = ma_df[ma_df[\"species\"] == species]\n",
    "        for cut in q_val_cuts:\n",
    "            plt.figure()\n",
    "            cols_oi = [f\"top_target_{eng}_at_{cut}\" for eng in all_eng]\n",
    "            df_plot = pd.DataFrame()\n",
    "\n",
    "            for c in cols_oi:\n",
    "                if species_df[c].sum() <= 1:\n",
    "                    continue\n",
    "\n",
    "                sub_df = species_df[species_df[c]]\n",
    "                # Get around RuntimeWarning for log2\n",
    "                sub_df = sub_df.replace(to_replace=0, value=1e-308)\n",
    "                df_eng = pd.DataFrame()\n",
    "                df_eng[\"x_axis\"] = 1e7 / (sub_df[ratio[0]] + sub_df[ratio[1]])\n",
    "                df_eng[\"y_axis\"] = np.log2(sub_df[ratio[0]] / sub_df[ratio[1]])\n",
    "                df_eng[\"engine\"] = c.split(\"top_target_\")[1].split(\"_at\")[0]\n",
    "                df_eng = df_eng[df_eng[\"x_axis\"] < 2]\n",
    "\n",
    "                if len(df_plot) == 0:\n",
    "                    df_plot = df_eng\n",
    "                else:\n",
    "                    df_plot = pd.concat([df_eng, df_plot])\n",
    "\n",
    "            plot = sns.lmplot(\n",
    "                x=\"x_axis\",\n",
    "                y=\"y_axis\",\n",
    "                hue=\"engine\",\n",
    "                data=df_plot,\n",
    "                x_bins=np.logspace(-2, 1, 20),\n",
    "                scatter_kws={\"s\": 20, \"alpha\": 0.5},\n",
    "                line_kws={\"lw\": 2},\n",
    "                x_ci=\"sd\",\n",
    "                markers=\"x\",\n",
    "                legend=False,\n",
    "            )\n",
    "            err_lines = [\n",
    "                l\n",
    "                for l in plot.ax.lines\n",
    "                if len(l.get_xdata()) == 2 and l.get_xdata()[0] == l.get_xdata()[1]\n",
    "            ]\n",
    "            for el in err_lines:\n",
    "                el.set_linewidth(1)\n",
    "                x_caps = el.get_xdata()[0]\n",
    "                y_caps = el.get_ydata()\n",
    "                position = {\n",
    "                    \"ha\": \"center\",\n",
    "                    \"va\": \"center\",\n",
    "                    \"size\": 20,\n",
    "                    \"color\": el.get_color(),\n",
    "                }\n",
    "                cap_lower = plot.ax.annotate(\"-\", xy=(x_caps, y_caps[0]), **position)\n",
    "                cap_upper = plot.ax.annotate(\"-\", xy=(x_caps, y_caps[1]), **position)\n",
    "\n",
    "            legend = plt.legend(loc=\"upper center\", bbox_to_anchor=(0.5, -0.2), ncol=3)\n",
    "            plot.ax.axhline(\n",
    "                exp_y, color=\"black\", linestyle=\"--\", linewidth=2, alpha=0.5\n",
    "            )\n",
    "            plot.ax.set_xlim(0.01, 2)\n",
    "            plot.set_axis_labels(\n",
    "                f\"1e7 / sum {ratio[0]}+{ratio[1]}\", f\"log2 {ratio[0]}x{ratio[1]}\"\n",
    "            )\n",
    "            plot.set(xscale=\"log\")\n",
    "            plot.fig.suptitle(f\"{ratio[0]}_{ratio[1]}_{species}_at_{cut}\")\n",
    "            plt.savefig(\n",
    "                f\"../plots/ma/{ratio}_{species}_at_{cut}.png\",\n",
    "                bbox_extra_artists=[legend],\n",
    "                bbox_inches=\"tight\",\n",
    "                dpi=600,\n",
    "            )\n",
    "            plt.show()"
   ]
  },
  {
   "cell_type": "code",
   "execution_count": null,
   "metadata": {},
   "outputs": [],
   "source": []
  }
 ],
 "metadata": {
  "kernelspec": {
   "display_name": "Python 3",
   "language": "python",
   "name": "python3"
  },
  "language_info": {
   "codemirror_mode": {
    "name": "ipython",
    "version": 3
   },
   "file_extension": ".py",
   "mimetype": "text/x-python",
   "name": "python",
   "nbconvert_exporter": "python",
   "pygments_lexer": "ipython3",
   "version": "3.7.5"
  },
  "pycharm": {
   "stem_cell": {
    "cell_type": "raw",
    "metadata": {
     "collapsed": false
    },
    "source": []
   }
  }
 },
 "nbformat": 4,
 "nbformat_minor": 1
}
