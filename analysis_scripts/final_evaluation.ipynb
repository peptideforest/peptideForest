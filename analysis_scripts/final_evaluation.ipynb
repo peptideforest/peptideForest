{
 "cells": [
  {
   "cell_type": "code",
   "execution_count": null,
   "id": "91ef0a1a",
   "metadata": {},
   "outputs": [],
   "source": [
    "import numpy as np\n",
    "import pandas as pd\n",
    "import itertools\n",
    "from sklearn.preprocessing import maxabs_scale, StandardScaler, minmax_scale\n",
    "from scipy.spatial import distance\n",
    "import plotly\n",
    "import plotly.graph_objs as go\n",
    "import plotly.offline as offline\n",
    "from plotly.colors import n_colors\n",
    "import plotly.express as px\n",
    "import plotly.io as pio\n",
    "pd.set_option(\"max_columns\", 1000)\n",
    "pd.set_option(\"max_rows\", 500)"
   ]
  },
  {
   "cell_type": "code",
   "execution_count": null,
   "id": "4cd6e563",
   "metadata": {},
   "outputs": [],
   "source": [
    "import plotly.io as pio\n",
    "pio.kaleido.scope.default_width = 1200"
   ]
  },
  {
   "cell_type": "code",
   "execution_count": null,
   "id": "5fe42463",
   "metadata": {},
   "outputs": [],
   "source": [
    "DATASET = \"E13\""
   ]
  },
  {
   "cell_type": "code",
   "execution_count": null,
   "id": "243e4932",
   "metadata": {},
   "outputs": [],
   "source": [
    "tmts = ['126', '127L', '127H', '128L', '128H', '129L', '129H', '130L', '130H', '131L']\n",
    "\n",
    "#label: (EColi, Human)\n",
    "expected_values = {\n",
    "    \"126\": (0, 1),\n",
    "    \"127L\": (1, 1),\n",
    "    \"127H\": (1, 0),\n",
    "    \"128L\": (0.5, 1),\n",
    "    \"128H\": (0.5, 0),\n",
    "    \"129L\": (0.2, 1),\n",
    "    \"129H\": (0.2, 0),\n",
    "    \"130L\": (0.1, 1),\n",
    "    \"130H\": (0.1, 0),\n",
    "    \"131L\": (1, 1),\n",
    "}"
   ]
  },
  {
   "cell_type": "code",
   "execution_count": null,
   "id": "e8e4d3a8",
   "metadata": {},
   "outputs": [],
   "source": [
    "quant_file = f\"/Users/tr341516/Downloads/04854_F1_R8_P0109699{DATASET}_TMT10_quant_pots.csv\"\n",
    "quant_df = pd.read_csv(quant_file , index_col=0)\n",
    "quant_df.rename(columns={'spectrum_id': 'Spectrum ID',}, inplace=True)\n",
    "quant_df = quant_df.pivot(index='Spectrum ID', columns='label', values='quant_value')"
   ]
  },
  {
   "cell_type": "code",
   "execution_count": null,
   "id": "5439ce8f-f77a-42c8-9d36-7fadd9b29e73",
   "metadata": {},
   "outputs": [],
   "source": [
    "for c in quant_df.columns:\n",
    "    quant_df[c].fillna(quant_df[c].min(), inplace=True)\n",
    "quant_df = quant_df.apply(lambda x: np.log2(x+1))\n",
    "quant_df.loc[:,:] = maxabs_scale(quant_df.values, axis=1)"
   ]
  },
  {
   "cell_type": "code",
   "execution_count": null,
   "id": "b9c48def",
   "metadata": {},
   "outputs": [],
   "source": [
    "result_csv = f\"/Users/tr341516/Downloads/PeptideForestPerm/mzml/peptide_forest_3_b7c293e21fc9526b001e0cad761d595e/04854_F1_R8_P0109699{DATASET}_TMT10_________unified_peptide_forest_3.csv.bz2\"\n",
    "output_df = pd.read_csv(result_csv, index_col=0, compression=\"bz2\")\n",
    "output_df.head()"
   ]
  },
  {
   "cell_type": "code",
   "execution_count": null,
   "id": "43d6a4d1",
   "metadata": {},
   "outputs": [],
   "source": [
    "all_eng = [c.split(\"Score_processed_\")[1] for c in output_df.columns if \"Score_processed\" in c]\n",
    "\n",
    "# Add species column\n",
    "def determine_species(row):\n",
    "    code = 0\n",
    "    if \"HUMAN\" in row[\"Protein ID\"].upper():\n",
    "        code += 1  # 2^^0\n",
    "    if \"ECOLI\" in row[\"Protein ID\"].upper():\n",
    "        code += 2  # 2^^1\n",
    "    if \"CONT\" in row[\"Protein ID\"].upper():\n",
    "        code += 4  # 2^^2\n",
    "    return min(code, 4)\n",
    "\n",
    "output_df[\"species code\"] = output_df.apply(determine_species, axis=1)"
   ]
  },
  {
   "cell_type": "code",
   "execution_count": null,
   "id": "d52c1160-d9fd-4c89-8fc8-58bdb4492b49",
   "metadata": {},
   "outputs": [],
   "source": [
    "_df = pd.merge(output_df, quant_df, on=\"Spectrum ID\").reset_index(drop=True)"
   ]
  },
  {
   "cell_type": "code",
   "execution_count": null,
   "id": "64a5183a",
   "metadata": {},
   "outputs": [],
   "source": [
    "df = _df.copy()"
   ]
  },
  {
   "cell_type": "code",
   "execution_count": null,
   "id": "cf5181fd",
   "metadata": {},
   "outputs": [],
   "source": [
    "repl_dict = {\n",
    "    \"comet_2020_01_4\": \"Comet 2020.01.4\",\n",
    "    \"msamanda_2_0_0_17442\": \"MS Amanda 2.0.0.17442\",\n",
    "    \"msfragger_3_0\": \"MSFragger 3.0\",\n",
    "    \"msgfplus_2021_03_22\": \"MSGF+ 2021.03.22\",\n",
    "    \"omssa_2_1_9\": \"OMSSA 2.1.9\",\n",
    "    \"xtandem_alanine\": \"X!Tandem Alanine\",\n",
    "    \"mascot_2_6_2\": \"Mascot 2.6.2\",\n",
    "    \"peptide_forest\": \"PeptideForest (all)\",\n",
    "    \"peptide forest only\": \"PeptideForest (unique)\",\n",
    "    \"any engine\": \"Any engine (excluding PeptideForest)\",\n",
    "    \"most engine\": \"Majority of all engines (excluding PeptideForest)\"\n",
    "    }"
   ]
  },
  {
   "cell_type": "code",
   "execution_count": null,
   "id": "e8845b1b",
   "metadata": {},
   "outputs": [],
   "source": []
  },
  {
   "cell_type": "markdown",
   "id": "a288e36d-9010-44d2-aa3a-c40e404f0b57",
   "metadata": {},
   "source": [
    "## some UMAP"
   ]
  },
  {
   "cell_type": "code",
   "execution_count": null,
   "id": "4dc2e6ba-6850-4d8e-b2e4-628ec461243b",
   "metadata": {},
   "outputs": [],
   "source": [
    "import umap\n",
    "from sklearn.decomposition import PCA"
   ]
  },
  {
   "cell_type": "code",
   "execution_count": null,
   "id": "672d57d3",
   "metadata": {},
   "outputs": [],
   "source": [
    "def create_fig_data(df=None, quant_df=None, mask=None, n=None, metric=\"euclidean\"):\n",
    "    reducer = umap.UMAP(\n",
    "        metric=metric\n",
    "    )\n",
    "    if n is None:\n",
    "        tmt_data = df[mask][quant_df.columns]\n",
    "    else:\n",
    "        tmt_data = df[mask][quant_df.columns].sample(n)\n",
    "    scaled_tmt_data = StandardScaler().fit_transform(tmt_data.values)\n",
    "    embedding = reducer.fit_transform(scaled_tmt_data)\n",
    "    edf = pd.DataFrame(embedding, columns=[\"umap_1\", \"umap_2\"])\n",
    "    tmt_data.reset_index(inplace=True)\n",
    "    tmt_data.rename(columns={\"index\":\"Spectrum ID\"}, inplace=True)\n",
    "    fig_data = tmt_data.join(pd.DataFrame(embedding, columns=[\"umap_1\", \"umap_2\"]))\n",
    "    fig_data = fig_data.join(df, on=\"Spectrum ID\", rsuffix=\"_big_table\")\n",
    "    return fig_data"
   ]
  },
  {
   "cell_type": "code",
   "execution_count": null,
   "id": "a97c4044",
   "metadata": {},
   "outputs": [],
   "source": [
    "for c in [c for c in df.columns if \"reported_by\" in c]:\n",
    "    print(len(df[~df[\"Is decoy\"] & df[c]]), c)"
   ]
  },
  {
   "cell_type": "code",
   "execution_count": null,
   "id": "5cf9c265",
   "metadata": {},
   "outputs": [],
   "source": [
    "from plotly.subplots import make_subplots\n",
    "from sklearn.linear_model import Perceptron\n",
    "\n",
    "fig = make_subplots(rows=4, cols=2, vertical_spacing=0.05, subplot_titles=(\"Mapped Species\", \"Predicted Species\"))\n",
    "\n",
    "eng = \"mascot_2_6_2\"\n",
    "for i, cut in enumerate([0.5, 0.1, 0.01, 0.001]):\n",
    "    mask = ~df[\"Is decoy\"] & (df[f'q-value_{eng}'] <= cut) & (df[\"species code\"].isin([1,2]))\n",
    "    clf = Perceptron(alpha=0.001, random_state=42)\n",
    "    clf.fit(df[mask][quant_df.columns].values, df[mask][\"species code\"].values)\n",
    "    print(eng, clf.score(df[mask][quant_df.columns].values, df[mask][\"species code\"].values))\n",
    "    \n",
    "    fig_data = create_fig_data(df=df, quant_df=quant_df, mask=mask, n=None, metric=\"canberra\")\n",
    "    \n",
    "    \n",
    "    data = []\n",
    "    species = {\n",
    "        1 : \"human\",\n",
    "        2 : \"ecoli\",\n",
    "    }\n",
    "    for code, name in species.items():\n",
    "        f_mask = fig_data[\"species code\"] == code\n",
    "        fig.add_trace(\n",
    "            go.Scattergl(\n",
    "                x = fig_data[f_mask][\"umap_1\"],\n",
    "                y = fig_data[f_mask][\"umap_2\"],\n",
    "                mode='markers',\n",
    "                marker=dict(color=plotly.colors.DEFAULT_PLOTLY_COLORS[0] if code == 1 else plotly.colors.DEFAULT_PLOTLY_COLORS[1], size=1.5),\n",
    "                name=name,\n",
    "                legendgroup=name,\n",
    "                showlegend=False if i != 0 else True,\n",
    "            ),\n",
    "            row=i+1,\n",
    "            col=1\n",
    "        )\n",
    "        \n",
    "    for code, name in species.items():\n",
    "        f_mask = clf.predict(df[mask][quant_df.columns].values) == code\n",
    "        fig.add_trace(\n",
    "            go.Scattergl(\n",
    "                x = fig_data[f_mask][\"umap_1\"],\n",
    "                y = fig_data[f_mask][\"umap_2\"],\n",
    "                mode='markers',\n",
    "                marker=dict(color=plotly.colors.DEFAULT_PLOTLY_COLORS[0] if code == 1 else plotly.colors.DEFAULT_PLOTLY_COLORS[1], size=1.5),\n",
    "                name=name,\n",
    "                legendgroup=\"skip\",\n",
    "                showlegend=False,\n",
    "            ),\n",
    "            row=i+1,\n",
    "            col=2\n",
    "        )\n",
    "        \n",
    "    fig.update_yaxes(title_text=f\"{repl_dict[eng]} @ {cut} q-cut\", row=i+1, col=1)\n",
    "\n",
    "fig.update_layout(\n",
    "    autosize=True,\n",
    "    width=800,\n",
    "    height=4*400,\n",
    "    legend={\"itemsizing\": \"constant\"})\n",
    "\n",
    "fig.write_image(f\"masterplots/fig_{DATASET}_clustering_qcuts.png\")\n",
    "fig.show()"
   ]
  },
  {
   "cell_type": "code",
   "execution_count": null,
   "id": "35dd9d8a",
   "metadata": {
    "scrolled": false
   },
   "outputs": [],
   "source": [
    "from plotly.subplots import make_subplots\n",
    "from sklearn.linear_model import Perceptron\n",
    "\n",
    "fig = make_subplots(rows=8, cols=2, vertical_spacing=0.05, subplot_titles=(\"Mapped Species\", \"Predicted Species\"))\n",
    "\n",
    "aucs = {}\n",
    "for i, eng in enumerate(all_eng):\n",
    "    mask = ~df[\"Is decoy\"] & (df[f'q-value_{eng}'] <= 0.01) & (df[\"species code\"].isin([1,2]))\n",
    "    clf = Perceptron(alpha=0.001, random_state=42)\n",
    "    clf.fit(df[mask][quant_df.columns].values, df[mask][\"species code\"].values)\n",
    "    y_pred = clf.predict(df[mask][quant_df.columns].values)\n",
    "    auc = roc_auc_score(df[mask][\"species code\"].values, y_pred, average=\"weighted\")\n",
    "    print(eng, auc)\n",
    "    aucs[eng] = auc\n",
    "    \n",
    "    fig_data = create_fig_data(df=df, quant_df=quant_df, mask=mask, n=None, metric=\"canberra\")\n",
    "    \n",
    "    \n",
    "    data = []\n",
    "    species = {\n",
    "        1 : \"human\",\n",
    "        2 : \"ecoli\",\n",
    "    }\n",
    "    for code, name in species.items():\n",
    "        f_mask = fig_data[\"species code\"] == code\n",
    "        fig.add_trace(\n",
    "            go.Scattergl(\n",
    "                x = fig_data[f_mask][\"umap_1\"],\n",
    "                y = fig_data[f_mask][\"umap_2\"],\n",
    "                mode='markers',\n",
    "                marker=dict(color=plotly.colors.DEFAULT_PLOTLY_COLORS[0] if code == 1 else plotly.colors.DEFAULT_PLOTLY_COLORS[1], size=1.5),\n",
    "                name=name,\n",
    "                legendgroup=name,\n",
    "                showlegend=False if i != 0 else True,\n",
    "            ),\n",
    "            row=i+1,\n",
    "            col=1\n",
    "        )\n",
    "        \n",
    "    for code, name in species.items():\n",
    "        f_mask = clf.predict(df[mask][quant_df.columns].values) == code\n",
    "        fig.add_trace(\n",
    "            go.Scattergl(\n",
    "                x = fig_data[f_mask][\"umap_1\"],\n",
    "                y = fig_data[f_mask][\"umap_2\"],\n",
    "                mode='markers',\n",
    "                marker=dict(color=plotly.colors.DEFAULT_PLOTLY_COLORS[0] if code == 1 else plotly.colors.DEFAULT_PLOTLY_COLORS[1], size=1.5),\n",
    "                name=name,\n",
    "                legendgroup=\"skip\",\n",
    "                showlegend=False,\n",
    "            ),\n",
    "            row=i+1,\n",
    "            col=2\n",
    "        )\n",
    "        \n",
    "    fig.update_yaxes(title_text=repl_dict[eng], row=i+1, col=1)\n",
    "\n",
    "fig.update_layout(\n",
    "    autosize=True,\n",
    "    width=800,\n",
    "    height=8*400,\n",
    "    legend={\"itemsizing\": \"constant\"})\n",
    "\n",
    "fig.write_image(f\"masterplots/fig_{DATASET}_clustering.png\")\n",
    "fig.show()\n",
    "print(aucs)"
   ]
  },
  {
   "cell_type": "markdown",
   "id": "c8ab3998",
   "metadata": {
    "tags": []
   },
   "source": [
    "# Figure 1"
   ]
  },
  {
   "cell_type": "code",
   "execution_count": null,
   "id": "5f4d89c4",
   "metadata": {
    "scrolled": true
   },
   "outputs": [],
   "source": [
    "q_val_cuts = np.logspace(-4, -1, num=20)\n",
    "\n",
    "data={}\n",
    "for q_cut in q_val_cuts:\n",
    "    data[q_cut] = {}\n",
    "    for c in [x for x in df.columns if \"q-value_\" in x]:\n",
    "        plt_df1 = df.copy(deep=True)\n",
    "        plt_df1 = plt_df1[plt_df1[c] <= q_cut]\n",
    "        if len(plt_df1) == 0:\n",
    "            data[q_cut][c.replace(\"q-value_\", \"\")] = (\"with engine only\", pd.NA, 0, 0, 0)\n",
    "        else:\n",
    "            peptidoforms = plt_df1[~plt_df1[\"Is decoy\"]].groupby([\"Sequence\", \"Modifications\"]).ngroups\n",
    "            proteins = len(set().union(*plt_df1[~plt_df1[\"Is decoy\"]][\"Protein ID\"].str.split(r\"<|>\").apply(set).to_list()))\n",
    "            plt_df1 = plt_df1.value_counts(\"Is decoy\")\n",
    "            if not True in plt_df1.index:\n",
    "                plt_df1 = pd.Series([plt_df1[False], 0], index=[False, True])\n",
    "\n",
    "            data[q_cut][c.replace(\"q-value_\", \"\")] = (\"with engine only\", plt_df1[True]/plt_df1.sum(), plt_df1[False], peptidoforms, proteins)\n",
    "        \n",
    "        # Percolator\n",
    "        eng = c.replace(\"q-value_\", \"\")\n",
    "        if \"peptide_forest\" in eng:\n",
    "            data[q_cut][eng + \"Perc\"] = (\"with Percolator 3.5.0\", *data[q_cut][eng][1:])\n",
    "            continue\n",
    "        try:\n",
    "            pdf = pd.read_csv(f\"/Users/tr341516/Downloads/PeptideForestPerm/mzml/percolator_3_5_0_a2e99f70a9d13c13e5ff16cfad6cad18/04854_F1_R8_P0109699{DATASET}_TMT10_{eng.replace('msfragger_3_0', 'msfragger_3')}_unified_percolator_3_5_0_validated.csv\")\n",
    "            pdf = pdf[pdf[\"q-value\"] <= q_cut]\n",
    "            if len(pdf) == 0:\n",
    "                data[q_cut][eng.replace(\"msfragger_3_0\", \"MSFragger 3.0\") + \"Perc\"] = (\"with Percolator 3.5.0\", pd.NA, 0, 0, 0)\n",
    "                continue\n",
    "            peptidoforms = pdf[~pdf[\"Is decoy\"]].groupby([\"Sequence\", \"Modifications\"]).ngroups\n",
    "            proteins = len(set().union(*pdf[~pdf[\"Is decoy\"]][\"Protein ID\"].str.split(r\"<|>\").apply(set).to_list()))\n",
    "            pdf = pdf.value_counts(\"Is decoy\")\n",
    "            if not True in pdf.index:\n",
    "                pdf = pd.Series([pdf[False], 0], index=[False, True])\n",
    "\n",
    "            data[q_cut][eng.replace(\"msfragger_3_0\", \"MSFragger 3.0\") + \"Perc\"] = (\"with Percolator 3.5.0\", pdf[True]/pdf.sum(), pdf[False], peptidoforms, proteins)\n",
    "        except:\n",
    "            data[q_cut][eng.replace(\"msfragger_3_0\", \"MSFragger 3.0\") + \"Perc\"] = (\"with Percolator 3.5.0\", pd.NA, 0, 0, 0)\n"
   ]
  },
  {
   "cell_type": "code",
   "execution_count": null,
   "id": "0d038701",
   "metadata": {},
   "outputs": [],
   "source": [
    "plt_df1 = pd.DataFrame(data)\n",
    "plt_df1 = pd.melt(plt_df1.reset_index(), id_vars=['index'], value_vars=q_val_cuts)"
   ]
  },
  {
   "cell_type": "code",
   "execution_count": null,
   "id": "849ae0d7",
   "metadata": {},
   "outputs": [],
   "source": [
    "plt_df1 = pd.DataFrame(data)\n",
    "plt_df1 = pd.melt(plt_df1.reset_index(), id_vars=['index'], value_vars=q_val_cuts)\n",
    "plt_df1.columns = [\"Search Engine\", \"q-value cutoff\", \"stack\"]\n",
    "plt_df1[[\"Search performed\", \"FDR [%]\", \"n PSMs\", \"n Peptidoforms\", \"n Proteins\"]] = plt_df1[\"stack\"].apply(pd.Series)\n",
    "plt_df1[\"Search Engine\"] = plt_df1[\"Search Engine\"].str.replace(\"Perc\", \"\")\n",
    "plt_df1[\"Search Engine\"] = plt_df1[\"Search Engine\"].replace(repl_dict, regex=True)"
   ]
  },
  {
   "cell_type": "code",
   "execution_count": null,
   "id": "8b4b2d5d",
   "metadata": {},
   "outputs": [],
   "source": [
    "plt_df1 = pd.melt(plt_df1, id_vars=[\"Search performed\", \"Search Engine\", \"q-value cutoff\", \"stack\"], value_vars=[\"n PSMs\", \"n Peptidoforms\", \"n Proteins\"])\n",
    "plt_df1.columns = [\"Search performed\", \"Search Engine\", \"q-value cutoff\", \"stack\", \"Type\", \"n\"]"
   ]
  },
  {
   "cell_type": "code",
   "execution_count": null,
   "id": "47f116b9",
   "metadata": {},
   "outputs": [],
   "source": [
    "plt_df1[\"Search performed\"] = plt_df1[\"Search performed\"].astype(str)"
   ]
  },
  {
   "cell_type": "code",
   "execution_count": null,
   "id": "99714387",
   "metadata": {},
   "outputs": [],
   "source": [
    "plt_df1[plt_df1[\"Search Engine\"] == \"PeptideForest (all)\"]"
   ]
  },
  {
   "cell_type": "code",
   "execution_count": null,
   "id": "42d102a1",
   "metadata": {},
   "outputs": [],
   "source": [
    "fig = px.line(plt_df1, x=\"q-value cutoff\", y=\"n\", color=\"Search Engine\", log_x=True, markers=True, category_orders={\"Search Engine\": list(repl_dict.values())[:-3],}, facet_row=\"Type\", facet_col=\"Search performed\")\n",
    "fig.for_each_annotation(lambda a: a.update(text=a.text.split(\"=\")[-1]))\n",
    "fig.update_layout(\n",
    "    paper_bgcolor='rgba(255,255,255,1)',\n",
    "    plot_bgcolor='rgba(255,255,255,1)',\n",
    ")\n",
    "fig.update_xaxes(showline=True, linewidth=2, linecolor='black', gridcolor=\"lightgray\")\n",
    "fig.update_yaxes(showline=True, linewidth=2, linecolor='black', gridcolor=\"lightgray\")\n",
    "fig.update_xaxes(type=\"log\", showexponent=\"none\", exponentformat=\"power\", tickmode = 'array',tickvals = [0.0001, 0.001, 0.01, 0.1,],)\n",
    "fig.update_layout(\n",
    "    autosize=False,\n",
    "    width=800,\n",
    "    height=1100,)\n",
    "fig.write_image(f\"masterplots/test.png\", scale=2)\n",
    "fig.show()"
   ]
  },
  {
   "cell_type": "code",
   "execution_count": null,
   "id": "7019c219",
   "metadata": {
    "scrolled": true
   },
   "outputs": [],
   "source": [
    "fig = px.line(plt_df1[~plt_df1[\"Search Engine\"].str.contains(\"Percolator\")], x=\"q-value cutoff\", y=\"n\", color=\"Search Engine\", log_x=True, markers=True, category_orders={\"Search Engine\": list(repl_dict.values())[:-3],}, facet_row=\"Type\", facet_col=\"Search performed\")\n",
    "fig.update_layout( \n",
    "    xaxis = dict(\n",
    "        showexponent = 'all',\n",
    "        exponentformat = 'power'\n",
    "    )\n",
    ")\n",
    "fig.update_layout(\n",
    "    autosize=False,\n",
    "    width=885,\n",
    "    height=700,)\n",
    "fig.write_image(f\"masterplots/fig_{DATASET}_n_wo_percolator.png\")\n",
    "fig.show()\n",
    "fig = px.line(plt_df1[plt_df1[\"Search Engine\"].str.contains(\"Percolator\") | (plt_df1[\"Search Engine\"] == \"PeptideForest (all)\")], x=\"q-value cutoff\", y=\"n\", color=\"Search Engine\", log_x=True, markers=True, category_orders={\"Search Engine\": [x + \" + Percolator 3.5.0\" if not \"(all)\" in x else x for x in list(repl_dict.values())[:-3]],}, facet_row=\"Type\", facet_col=\"Search performed\")\n",
    "fig.update_layout(\n",
    "    xaxis = dict(\n",
    "        showexponent = 'all',\n",
    "        exponentformat = 'power'\n",
    "    )\n",
    ")\n",
    "fig.update_layout(\n",
    "    autosize=False,\n",
    "\n",
    "fig.show()"
   ]
  },
  {
   "cell_type": "code",
   "execution_count": null,
   "id": "fc1a182f",
   "metadata": {},
   "outputs": [],
   "source": [
    "plt_df1"
   ]
  },
  {
   "cell_type": "code",
   "execution_count": null,
   "id": "2e02433e",
   "metadata": {},
   "outputs": [],
   "source": [
    "plt_df1[\"Search performed\"].value_counts()"
   ]
  },
  {
   "cell_type": "markdown",
   "id": "8f8efa22",
   "metadata": {},
   "source": [
    "fig = px.line(plt_df1[~plt_df1[\"Search Engine\"].str.contains(\"Percolator\")].dropna(how=\"any\", axis=0), x=\"q-value cutoff\", y=\"FDR [%]\", color=\"Search Engine\", log_x=True, log_y=True, markers=True, category_orders={\"Search Engine\": list(repl_dict.values())[:-3],})\n",
    "fig.update_layout(\n",
    "    xaxis = dict(\n",
    "        showexponent = 'all',\n",
    "        exponentformat = 'power'\n",
    "    ),\n",
    "    yaxis = dict(\n",
    "        showexponent = 'all',\n",
    "        exponentformat = 'power'\n",
    "    ),\n",
    ")\n",
    "fig.write_image(\"masterplots/fig_E32_fdr_wo_percolator.png\")\n",
    "fig.show()\n",
    "fig = px.line(plt_df1[plt_df1[\"Search Engine\"].str.contains(\"Percolator\") | (plt_df1[\"Search Engine\"] == \"PeptideForest (all)\")].dropna(how=\"any\", axis=0), x=\"q-value cutoff\", y=\"FDR [%]\", color=\"Search Engine\", log_x=True, log_y=True, markers=True, category_orders={\"Search Engine\": list(repl_dict.values())[:-3],})\n",
    "fig.update_layout(\n",
    "    xaxis = dict(\n",
    "        showexponent = 'all',\n",
    "        exponentformat = 'power'\n",
    "    ),\n",
    "    yaxis = dict(\n",
    "        showexponent = 'all',\n",
    "        exponentformat = 'power'\n",
    "    ),\n",
    ")\n",
    "fig.write_image(\"masterplots/fig_E32_fdr_w_percolator.png\")\n",
    "fig.show()"
   ]
  },
  {
   "cell_type": "code",
   "execution_count": null,
   "id": "1b3a39d2",
   "metadata": {},
   "outputs": [],
   "source": [
    "q_val_cuts = np.logspace(-4, -1, num=4)\n",
    "sorted(q_val_cuts, reverse=True)\n",
    "\n",
    "for cut in sorted(q_val_cuts, reverse=True):\n",
    "    for eng in all_eng:\n",
    "        idx_below_cut_off_for_e = df[(df[f'q-value_{eng}'] <= cut)].index\n",
    "        eng_per_q_col = f\"top_target_{eng}_at_{cut}\"\n",
    "        df[eng_per_q_col] = False\n",
    "        df.loc[idx_below_cut_off_for_e, eng_per_q_col] = True\n",
    "    \n",
    "    idx_below_cut_off_for_e = df[(df[[c for c in df.columns if \"q-value_\" in c and not \"peptide_forest\" in c]] <= cut).any(axis=1)].index\n",
    "    eng_per_q_col = f\"top_target_any_at_{cut}\"\n",
    "    df[eng_per_q_col] = False\n",
    "    df.loc[idx_below_cut_off_for_e, eng_per_q_col] = True\n",
    "    \n",
    "    idx_below_cut_off_for_e = df[(df[[c for c in df.columns if \"q-value_\" in c and not \"peptide_forest\" in c]] <= cut).sum(axis=1) >= ((len(all_eng)-1)//2)].index\n",
    "    eng_per_q_col = f\"top_target_majority_at_{cut}\"\n",
    "    df[eng_per_q_col] = False\n",
    "    df.loc[idx_below_cut_off_for_e, eng_per_q_col] = True\n",
    "    \n",
    "    idx_below_cut_off_for_e = df[(df[f'q-value_peptide_forest'] <= cut) & ~(df[f\"top_target_any_at_{cut}\"])].index\n",
    "    eng_per_q_col = f\"top_target_peptide_forest_only_at_{cut}\"\n",
    "    df[eng_per_q_col] = False\n",
    "    df.loc[idx_below_cut_off_for_e, eng_per_q_col] = True"
   ]
  },
  {
   "cell_type": "code",
   "execution_count": null,
   "id": "26a36622",
   "metadata": {},
   "outputs": [],
   "source": [
    "plt_df1 = pd.concat([plt_df1, plt_df1row], axis=0)"
   ]
  },
  {
   "cell_type": "code",
   "execution_count": null,
   "id": "e30dce1a",
   "metadata": {},
   "outputs": [],
   "source": [
    "plt_df1"
   ]
  },
  {
   "cell_type": "code",
   "execution_count": null,
   "id": "8b6d8473",
   "metadata": {},
   "outputs": [],
   "source": [
    "df[\"zom off tmts tschaennels\"] = df[(df[\"species code\"].isin([1,2])) & (~df[\"Is decoy\"])][expected_values.keys()].sum(axis=1)\n",
    "inds_ecoli = df[df[\"species code\"] == 2].sort_values(\"zom off tmts tschaennels\", ascending=False).head(5000).index\n",
    "inds_human = df[df[\"species code\"] == 1].sort_values(\"zom off tmts tschaennels\", ascending=False).head(5000).index\n",
    "df = df.iloc[inds_ecoli.union(inds_human)]\n",
    "\n",
    "for channel in expected_values.keys():\n",
    "    df.loc[:, channel] /= df[\"zom off tmts tschaennels\"]\n",
    "\n",
    "df[\"reported_by_peptide_forest\"] = True\n",
    "data = {\"ecoli\": {}, \"human\": {}}\n",
    "ref_ecoli = [v[0] for v in expected_values.values()]\n",
    "ref_human = [v[1] for v in expected_values.values()]\n",
    "q_val_cut = 0.01\n",
    "for eng in all_eng:\n",
    "    col_name = f\"top_target_{eng}_at_{q_val_cut}\"\n",
    "    val_human = minmax_scale(df[(df[\"species code\"] == 1) & (~df[\"Is decoy\"]) & (df[col_name]) & (df[f\"reported_by_{eng}\"])][expected_values.keys()], axis=1)\n",
    "    val_ecoli = minmax_scale(df[(df[\"species code\"] == 2) & (~df[\"Is decoy\"]) & (df[col_name]) & (df[f\"reported_by_{eng}\"])][expected_values.keys()], axis=1)\n",
    "    data[\"human\"][f\"{eng}\"] = pd.DataFrame(val_human).apply(lambda x: distance.canberra(x, ref_human), axis=1).values\n",
    "    data[\"ecoli\"][f\"{eng}\"] = pd.DataFrame(val_ecoli).apply(lambda x: distance.canberra(x, ref_ecoli), axis=1).values\n",
    "    \n",
    "col_name = f\"top_target_any_at_{q_val_cut}\"\n",
    "val_human = minmax_scale(df[(df[\"species code\"] == 1) & (~df[\"Is decoy\"]) & (df[col_name])][expected_values.keys()], axis=1)\n",
    "val_ecoli = minmax_scale(df[(df[\"species code\"] == 2) & (~df[\"Is decoy\"]) & (df[col_name])][expected_values.keys()], axis=1)\n",
    "data[\"human\"][\"any engine\"] = pd.DataFrame(val_human).apply(lambda x: distance.canberra(x, ref_human), axis=1).values\n",
    "data[\"ecoli\"][\"any engine\"] = pd.DataFrame(val_ecoli).apply(lambda x: distance.canberra(x, ref_ecoli), axis=1).values\n",
    "\n",
    "col_name = f\"top_target_majority_at_{q_val_cut}\"\n",
    "val_human = minmax_scale(df[(df[\"species code\"] == 1) & (~df[\"Is decoy\"]) & (df[col_name])][expected_values.keys()], axis=1)\n",
    "val_ecoli = minmax_scale(df[(df[\"species code\"] == 2) & (~df[\"Is decoy\"]) & (df[col_name])][expected_values.keys()], axis=1)\n",
    "data[\"human\"][\"most engine\"] = pd.DataFrame(val_human).apply(lambda x: distance.canberra(x, ref_human), axis=1).values\n",
    "data[\"ecoli\"][\"most engine\"] = pd.DataFrame(val_ecoli).apply(lambda x: distance.canberra(x, ref_ecoli), axis=1).values\n",
    "\n",
    "col_name = f\"top_target_peptide_forest_only_at_{q_val_cut}\"\n",
    "val_human = minmax_scale(df[(df[\"species code\"] == 1) & (~df[\"Is decoy\"]) & (df[col_name])][expected_values.keys()], axis=1)\n",
    "val_ecoli = minmax_scale(df[(df[\"species code\"] == 2) & (~df[\"Is decoy\"]) & (df[col_name])][expected_values.keys()], axis=1)\n",
    "data[\"human\"][\"peptide forest only\"] = pd.DataFrame(val_human).apply(lambda x: distance.canberra(x, ref_human), axis=1).values\n",
    "data[\"ecoli\"][\"peptide forest only\"] = pd.DataFrame(val_ecoli).apply(lambda x: distance.canberra(x, ref_ecoli), axis=1).values"
   ]
  },
  {
   "cell_type": "code",
   "execution_count": null,
   "id": "4de1f677",
   "metadata": {
    "scrolled": false
   },
   "outputs": [],
   "source": [
    "plt_df = pd.DataFrame(data)\n",
    "plt_df = pd.melt(plt_df.reset_index(), id_vars=['index'], value_vars=[\"ecoli\", \"human\"])\n",
    "plt_df = plt_df.explode(\"value\").reset_index(drop=True)\n",
    "plt_df.rename(columns={\"index\": \"Search Engine\", \"variable\": \"Species\", \"value\": \"Canberra distance\"}, inplace=True)\n",
    "plt_df"
   ]
  },
  {
   "cell_type": "code",
   "execution_count": null,
   "id": "9a8c75c8",
   "metadata": {},
   "outputs": [],
   "source": [
    "repl_dict = {\n",
    "    \"comet_2020_01_4\": \"Comet 2020.01.4\",\n",
    "    \"msamanda_2_0_0_17442\": \"MS Amanda 2.0.0.17442\",\n",
    "    \"msfragger_3_0\": \"MSFragger 3.0\",\n",
    "    \"msgfplus_2021_03_22\": \"MSGF+ 2021.03.22\",\n",
    "    \"omssa_2_1_9\": \"OMSSA 2.1.9\",\n",
    "    \"xtandem_alanine\": \"X!Tandem Alanine\",\n",
    "    \"mascot_2_6_2\": \"Mascot 2.6.2\",\n",
    "    \"peptide_forest\": \"PeptideForest (all)\",\n",
    "    \"peptide forest only\": \"PeptideForest (unique)\",\n",
    "    \"any engine\": \"Any engine (excluding PeptideForest)\",\n",
    "    \"most engine\": \"Majority of all engines (excluding PeptideForest)\"\n",
    "    }\n",
    "plt_df[\"Search Engine\"] = plt_df[\"Search Engine\"].replace(repl_dict)"
   ]
  },
  {
   "cell_type": "code",
   "execution_count": null,
   "id": "af1bbd5c",
   "metadata": {},
   "outputs": [],
   "source": [
    "plt_df[\"Search Engine\"].unique()"
   ]
  },
  {
   "cell_type": "code",
   "execution_count": null,
   "id": "2c918208",
   "metadata": {
    "scrolled": false
   },
   "outputs": [],
   "source": [
    "fig = go.Figure()\n",
    "grpby = plt_df.groupby([\"Search Engine\"])\n",
    "for name in list(repl_dict.values())[::-1]:\n",
    "    grp = grpby.get_group(name)\n",
    "    fig.add_trace(go.Box(x=grp[\"Canberra distance\"], name=name))#, scalegroup=\"default\", spanmode=\"hard\"))\n",
    "\n",
    "#fig.update_traces(orientation='h', side='positive', points=False, scalemode=\"width\", width=1.75)\n",
    "fig.update_layout(xaxis_showgrid=False, xaxis_zeroline=False, showlegend=False)\n",
    "fig.update_yaxes(title=\"Search Engine\")\n",
    "fig.update_xaxes(title=\"Canberra distance\")\n",
    "fig.write_image(f\"masterplots/fig_{DATASET}_distance_dist.png\")\n",
    "\n",
    "\n",
    "fig.show()"
   ]
  },
  {
   "cell_type": "code",
   "execution_count": null,
   "id": "eb2e62f8",
   "metadata": {},
   "outputs": [],
   "source": [
    "from scipy.stats import ks_2samp, kstest\n",
    "\n",
    "dist_peptide_forest = plt_df[plt_df[\"Search Engine\"] == \"PeptideForest (all)\"][\"Canberra distance\"].values\n",
    "for name, d in plt_df.groupby(\"Search Engine\"): \n",
    "    print(name)\n",
    "    print(\n",
    "        ks_2samp(\n",
    "            dist_peptide_forest, \n",
    "            d[\"Canberra distance\"].values, \n",
    "            mode=\"exact\"\n",
    "        )\n",
    "    , \"\\n\")"
   ]
  },
  {
   "cell_type": "code",
   "execution_count": null,
   "id": "0f26b8d8",
   "metadata": {},
   "outputs": [],
   "source": []
  },
  {
   "cell_type": "code",
   "execution_count": null,
   "id": "b4545d04",
   "metadata": {},
   "outputs": [],
   "source": []
  }
 ],
 "metadata": {
  "kernelspec": {
   "display_name": "Python 3 (ipykernel)",
   "language": "python",
   "name": "python3"
  },
  "language_info": {
   "codemirror_mode": {
    "name": "ipython",
    "version": 3
   },
   "file_extension": ".py",
   "mimetype": "text/x-python",
   "name": "python",
   "nbconvert_exporter": "python",
   "pygments_lexer": "ipython3",
   "version": "3.8.9"
  }
 },
 "nbformat": 4,
 "nbformat_minor": 5
}