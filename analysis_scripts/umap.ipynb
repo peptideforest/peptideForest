{
 "cells": [
  {
   "cell_type": "code",
   "execution_count": null,
   "metadata": {},
   "outputs": [],
   "source": [
    "import pandas as pd\n",
    "pd.set_option('display.max_columns', 1000) \n",
    "pd.set_option('display.max_rows', 100)   \n",
    "\n",
    "import plotly\n",
    "#import pyperclip\n",
    "import plotly.graph_objs as go\n",
    "\n",
    "import umap\n",
    "from sklearn.decomposition import PCA\n",
    "from sklearn.preprocessing import StandardScaler\n",
    "\n",
    "display(plotly.__version__)\n",
    "\n",
    "# from peptide_fragmentor.peptide_fragmentor import PeptideFragment0r\n",
    "# PROTON = 1.00727646677\n",
    "# offline.init_notebook_mode(connected=True)\n",
    "# import matplotlib\n",
    "# import matplotlib.pyplot as plt\n",
    "# import seaborn as sns\n",
    "# import glob\n",
    "# import os\n",
    "# import json\n",
    "\n",
    "# import numpy as np\n",
    "# import pymzml\n",
    "# import pyqms\n",
    "# import plotly.offline as offline"
   ]
  },
  {
   "cell_type": "code",
   "execution_count": null,
   "metadata": {},
   "outputs": [],
   "source": [
    "peptide_forest_output = \"../output.csv\"\n",
    "local_importance_output = \"../local_importance.csv\""
   ]
  },
  {
   "cell_type": "code",
   "execution_count": null,
   "metadata": {},
   "outputs": [],
   "source": [
    "df = pd.read_csv(peptide_forest_output)\n",
    "df.shape"
   ]
  },
  {
   "cell_type": "code",
   "execution_count": null,
   "metadata": {},
   "outputs": [],
   "source": [
    "df.head()"
   ]
  },
  {
   "cell_type": "code",
   "execution_count": null,
   "metadata": {},
   "outputs": [],
   "source": [
    "local_importance = pd.read_csv(local_importance_output, index_col=0)\n",
    "local_importance.shape"
   ]
  },
  {
   "cell_type": "code",
   "execution_count": null,
   "metadata": {},
   "outputs": [],
   "source": [
    "local_importance.head()"
   ]
  },
  {
   "cell_type": "code",
   "execution_count": null,
   "metadata": {},
   "outputs": [],
   "source": [
    "local_importance.describe()"
   ]
  },
  {
   "cell_type": "code",
   "execution_count": null,
   "metadata": {},
   "outputs": [],
   "source": [
    "# subset = local_importance.sample(frac=0.1)\n",
    "# subset.index"
   ]
  },
  {
   "cell_type": "code",
   "execution_count": null,
   "metadata": {},
   "outputs": [],
   "source": [
    "subset = df[\n",
    "    (df['q-value_mascot_1_0_0'] < 0.01) |\n",
    "    (df['q-value_omssa_2_1_9'] < 0.01) |\n",
    "    (df['q-value_msgfplus_v2018_06_28'] < 0.01) |\n",
    "    (df['q-value_xtandem_vengeance'] < 0.01) |\n",
    "    (df['q-value_msfragger_20190222'] < 0.01) |\n",
    "    (df['q-value_RF-reg'] < 0.1)\n",
    "]\n",
    "subset.index"
   ]
  },
  {
   "cell_type": "code",
   "execution_count": null,
   "metadata": {},
   "outputs": [],
   "source": [
    "embedding = umap.UMAP(n_neighbors=7).fit_transform(local_importance.loc[subset.index,:].values)\n"
   ]
  },
  {
   "cell_type": "code",
   "execution_count": null,
   "metadata": {},
   "outputs": [],
   "source": [
    "def copy_to_clipboard(trace, points, selector):\n",
    "    pyperclip.copy(points)"
   ]
  },
  {
   "cell_type": "code",
   "execution_count": null,
   "metadata": {},
   "outputs": [],
   "source": [
    "for c in df.columns:\n",
    "    if 'q-value' not in c:\n",
    "        continue\n",
    "    data = go.Scattergl(\n",
    "        x=embedding[:, 0], y=embedding[:, 1],\n",
    "        mode='markers',\n",
    "        marker=dict(\n",
    "            size=3,\n",
    "            color=df.loc[subset.index, c],\n",
    "            colorscale='rdylgn',\n",
    "            showscale=True\n",
    "        ),\n",
    "        hovertext = \"Q-values<br />\" + \\\n",
    "        \"Mascot:    \" + df.loc[subset.index, \"q-value_mascot_1_0_0\"].astype(str) + \"<br />\" + \\\n",
    "        \"OMSSA:     \" + df.loc[subset.index, \"q-value_omssa_2_1_9\"].astype(str) + \"<br />\" + \\\n",
    "        \"MSGF+:     \" + df.loc[subset.index, \"q-value_msgfplus_v2018_06_28\"].astype(str) + \"<br />\" + \\\n",
    "        \"X!Tandem:  \" + df.loc[subset.index, \"q-value_xtandem_vengeance\"].astype(str) + \"<br />\" + \\\n",
    "        \"MSFragger: \" + df.loc[subset.index, \"q-value_msfragger_20190222\"].astype(str) + \"<br />\" + \\\n",
    "        \"RF:        \" + df.loc[subset.index, \"q-value_RF-reg\"].astype(str) + \"<br />\" + \\\n",
    "        \"Spectrum ID: \" + df.loc[subset.index, 'Spectrum ID'].astype(str)\n",
    "        ,\n",
    "        hoverinfo = \"text\"\n",
    "    )\n",
    "    data.on_click(copy_to_clipboard)\n",
    "    fig = go.Figure(\n",
    "        data=data\n",
    "    )\n",
    "\n",
    "    fig.update_layout(template=\"plotly_white\", title=c)\n",
    "    fig.show()"
   ]
  },
  {
   "cell_type": "code",
   "execution_count": null,
   "metadata": {},
   "outputs": [],
   "source": [
    "copy_to_clipboard"
   ]
  },
  {
   "cell_type": "code",
   "execution_count": null,
   "metadata": {},
   "outputs": [],
   "source": [
    "plotly_color_scales = ['aggrnyl', 'agsunset', 'algae', 'amp', 'armyrose', 'balance',\n",
    "             'blackbody', 'bluered', 'blues', 'blugrn', 'bluyl', 'brbg',\n",
    "             'brwnyl', 'bugn', 'bupu', 'burg', 'burgyl', 'cividis', 'curl',\n",
    "             'darkmint', 'deep', 'delta', 'dense', 'earth', 'edge', 'electric',\n",
    "             'emrld', 'fall', 'geyser', 'gnbu', 'gray', 'greens', 'greys',\n",
    "             'haline', 'hot', 'hsv', 'ice', 'icefire', 'inferno', 'jet',\n",
    "             'magenta', 'magma', 'matter', 'mint', 'mrybm', 'mygbm', 'oranges',\n",
    "             'orrd', 'oryel', 'peach', 'phase', 'picnic', 'pinkyl', 'piyg',\n",
    "             'plasma', 'plotly3', 'portland', 'prgn', 'pubu', 'pubugn', 'puor',\n",
    "             'purd', 'purp', 'purples', 'purpor', 'rainbow', 'rdbu', 'rdgy',\n",
    "             'rdpu', 'rdylbu', 'rdylgn', 'redor', 'reds', 'solar', 'spectral',\n",
    "             'speed', 'sunset', 'sunsetdark', 'teal', 'tealgrn', 'tealrose',\n",
    "             'tempo', 'temps', 'thermal', 'tropic', 'turbid', 'twilight',\n",
    "             'viridis', 'ylgn', 'ylgnbu', 'ylorbr', 'ylorrd']"
   ]
  },
  {
   "cell_type": "code",
   "execution_count": null,
   "metadata": {},
   "outputs": [],
   "source": []
  },
  {
   "cell_type": "code",
   "execution_count": null,
   "metadata": {},
   "outputs": [],
   "source": []
  },
  {
   "cell_type": "code",
   "execution_count": null,
   "metadata": {},
   "outputs": [],
   "source": [
    "# for c_column in df.columns:\n",
    "#     if c_column in ['Sequence', 'Modifications', 'Protein ID']:\n",
    "#         continue\n",
    "#     fig, ax = plt.subplots(figsize=(20,20))\n",
    "#     sns.scatterplot(\n",
    "#         ax = ax,\n",
    "#         x=embedding[:, 0], \n",
    "#         y=embedding[:, 1], \n",
    "#         hue=df.loc[subset.index, c_column],\n",
    "#         s=2,\n",
    "#         alpha=1,\n",
    "#         palette=\"YlOrRd\" if 'score' in c_column else \"Dark2\",\n",
    "#         linewidth=0,\n",
    "#     )\n",
    "    \n",
    "#     plt.legend( bbox_to_anchor=(1.05, 1), loc=2, borderaxespad=0.)\n",
    "#     plt.show()\n",
    "#     break\n",
    "# # \"\"\"Accent, Accent_r, Blues, Blues_r, BrBG, BrBG_r, BuGn, BuGn_r, BuPu, BuPu_r, CMRmap, CMRmap_r, Dark2, Dark2_r, GnBu, GnBu_r, Greens, Greens_r, Greys, Greys_r, OrRd, OrRd_r, Oranges, Oranges_r, PRGn, PRGn_r, Paired, Paired_r, Pastel1, Pastel1_r, Pastel2, Pastel2_r, PiYG, PiYG_r, PuBu, PuBuGn, PuBuGn_r, PuBu_r, PuOr, PuOr_r, PuRd, PuRd_r, Purples, Purples_r, RdBu, RdBu_r, RdGy, RdGy_r, RdPu, RdPu_r, RdYlBu, RdYlBu_r, RdYlGn, RdYlGn_r, Reds, Reds_r, Set1, Set1_r, Set2, Set2_r, Set3, Set3_r, Spectral, Spectral_r, Wistia, Wistia_r, YlGn, YlGnBu, YlGnBu_r, YlGn_r, YlOrBr, YlOrBr_r, YlOrRd, YlOrRd_r, afmhot, afmhot_r, autumn, autumn_r, binary, binary_r, bone, bone_r, brg, brg_r, bwr, bwr_r, cividis, cividis_r, cool, cool_r, coolwarm, coolwarm_r, copper, copper_r, cubehelix, cubehelix_r, flag, flag_r, gist_earth, gist_earth_r, gist_gray, gist_gray_r, gist_heat, gist_heat_r, gist_ncar, gist_ncar_r, gist_rainbow, gist_rainbow_r, gist_stern, gist_stern_r, gist_yarg, gist_yarg_r, gnuplot, gnuplot2, gnuplot2_r, gnuplot_r, gray, gray_r, hot, hot_r, hsv, hsv_r, icefire, icefire_r, inferno, inferno_r, jet, jet_r, magma, magma_r, mako, mako_r, nipy_spectral, nipy_spectral_r, ocean, ocean_r, pink, pink_r, plasma, plasma_r, prism, prism_r, rainbow, rainbow_r, rocket, rocket_r, seismic, seismic_r, spring, spring_r, summer, summer_r, tab10, tab10_r, tab20, tab20_r, tab20b, tab20b_r, tab20c, tab20c_r, terrain, terrain_r, twilight, twilight_r, twilight_shifted, twilight_shifted_r, viridis, viridis_r, vlag, vlag_r, winter, winter_r\"\"\"\n"
   ]
  },
  {
   "cell_type": "code",
   "execution_count": null,
   "metadata": {},
   "outputs": [],
   "source": [
    "# plt.scatter(\n",
    "#     embedding[:, 0], \n",
    "#     embedding[:, 1], \n",
    "#     s=1, \n",
    "# #     c=df.loc[subset.index, 'Is decoy']\n",
    "# #     c=df.loc[subset.index, 'Score_processed_xtandem_vengeance']\n",
    "# )"
   ]
  },
  {
   "cell_type": "code",
   "execution_count": null,
   "metadata": {},
   "outputs": [],
   "source": [
    "# c_column = 'rank_mascot_1_0_0'\n",
    "# for c_column in df.columns:\n",
    "#     if c_column in ['Sequence', 'Modifications', 'Protein ID']:\n",
    "#         continue\n",
    "#     plt.scatter(\n",
    "#         embedding[:, 0], \n",
    "#         embedding[:, 1], \n",
    "#         s=1, \n",
    "#         c=df.loc[subset.index, c_column]\n",
    "#     )\n"
   ]
  },
  {
   "cell_type": "code",
   "execution_count": null,
   "metadata": {},
   "outputs": [],
   "source": [
    "# fig, ax = plt.subplots()\n",
    "# ax.scatter(\n",
    "# embedding[:, 0], \n",
    "#     embedding[:, 1], \n",
    "#     s=1, \n",
    "#     c=df.loc[subset.index, c_column]\n",
    "#     #     x, y, c=color, s=scale, label=color,\n",
    "# #                alpha=0.3, edgecolors='none'\n",
    "# )\n",
    "\n",
    "# ax.legend()\n",
    "# ax.grid(True)\n",
    "# plt.show()"
   ]
  },
  {
   "cell_type": "code",
   "execution_count": null,
   "metadata": {},
   "outputs": [],
   "source": []
  }
 ],
 "metadata": {
  "kernelspec": {
   "display_name": "Python 3",
   "language": "python",
   "name": "python3"
  },
  "language_info": {
   "codemirror_mode": {
    "name": "ipython",
    "version": 3
   },
   "file_extension": ".py",
   "mimetype": "text/x-python",
   "name": "python",
   "nbconvert_exporter": "python",
   "pygments_lexer": "ipython3",
   "version": "3.7.5"
  }
 },
 "nbformat": 4,
 "nbformat_minor": 4
}
