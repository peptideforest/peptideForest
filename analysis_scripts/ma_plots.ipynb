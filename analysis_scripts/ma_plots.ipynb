{
 "cells": [
  {
   "cell_type": "code",
   "execution_count": 3,
   "metadata": {
    "pycharm": {
     "is_executing": false,
     "name": "#%%\n"
    }
   },
   "outputs": [],
   "source": [
    "import numpy as np\n",
    "import pandas as pd\n",
    "import itertools\n",
    "import matplotlib.pyplot as plt\n",
    "import seaborn as sns\n",
    "\n",
    "import peptide_forest\n"
   ]
  },
  {
   "cell_type": "code",
   "execution_count": 6,
   "metadata": {
    "pycharm": {
     "is_executing": false,
     "name": "#%%\n"
    }
   },
   "outputs": [],
   "source": [
    "tmt_translation = {\n",
    "    \"62\": \"126\",\n",
    "    \"63\": \"127L\",\n",
    "    \"64\": \"127H\",\n",
    "    \"65\": \"128L\",\n",
    "    \"66\": \"128H\",\n",
    "    \"67\": \"129L\",\n",
    "    \"68\": \"129H\",\n",
    "    \"69\": \"130L\",\n",
    "    \"70\": \"130H\",\n",
    "    \"71\": \"131L\",\n",
    "}\n",
    "\n",
    "expected_values = {\n",
    "    \"126\": (0, 1),\n",
    "    \"127L\": (1, 1),\n",
    "    \"127H\": (1, 0),\n",
    "    \"128L\": (0.5, 1),\n",
    "    \"128H\": (0.5, 0),\n",
    "    \"129L\": (0.2, 1),\n",
    "    \"129H\": (0.2, 0),\n",
    "    \"130L\": (0.1, 1),\n",
    "    \"130H\": (0.1, 0),\n",
    "    \"131L\": (1, 1),\n",
    "}\n",
    "\n",
    "quant_df = pd.read_csv(\n",
    "    \"../data/_pep_quant_data/04854_F1_R8_P0109699E13_pep_quant_data.txt\",\n",
    "    sep=\"\\t\",\n",
    "    lineterminator=\"\\n\",\n",
    ")\n",
    "\n",
    "final_df = pd.read_csv(\"../output.csv\")"
   ]
  },
  {
   "cell_type": "code",
   "execution_count": 7,
   "metadata": {
    "pycharm": {
     "is_executing": false,
     "name": "#%%\n"
    }
   },
   "outputs": [],
   "source": [
    "quant_df[\"MSMS_ID\"] = quant_df[\"MSMS_ID\"].str.lstrip(\"F0\")\n",
    "unique_spec_ids = final_df[\"Spectrum ID\"].drop_duplicates()\n",
    "ma_df = pd.DataFrame(index=unique_spec_ids)\n",
    "\n",
    "q_val_cuts = sorted([float(f\"1e-{j}\") for j in np.arange(4, 1, -1)]) + [1e-1]\n",
    "\n",
    "final_df = peptide_forest.results.calc_all_final_q_vals(\n",
    "    df=final_df, frac_tp=0.9, top_psm_only=False, initial_engine=None\n",
    ")\n",
    "\n",
    "all_eng = [\n",
    "    c.split(\"Score_processed_\")[1] for c in final_df.columns if \"Score_processed\" in c\n",
    "]\n",
    "for cut in q_val_cuts:\n",
    "    for eng in all_eng:\n",
    "        eng_per_q_col = f\"top_target_{eng}_at_{cut}\"\n",
    "        target_col = f\"top_target_{eng}\"\n",
    "        marked_targets = peptide_forest.results.mark_top_targets(\n",
    "            df=final_df, q_cut=cut\n",
    "        )[[target_col, \"Spectrum ID\"]]\n",
    "        marked_targets = marked_targets[marked_targets[target_col]][\"Spectrum ID\"]\n",
    "        ma_df[eng_per_q_col] = False\n",
    "        ma_df.loc[marked_targets, eng_per_q_col] = True\n"
   ]
  },
  {
   "cell_type": "code",
   "execution_count": 8,
   "metadata": {
    "pycharm": {
     "is_executing": false,
     "name": "#%%\n"
    }
   },
   "outputs": [],
   "source": [
    "# Add species column\n",
    "inds = ma_df.index.to_list()\n",
    "spec_species = final_df.loc[\n",
    "    final_df[\"Spectrum ID\"].drop_duplicates().isin(inds).index,\n",
    "    [\"Protein ID\", \"Spectrum ID\"],\n",
    "]\n",
    "ma_df.loc[spec_species[\"Spectrum ID\"].to_list(), \"species\"] = spec_species[\n",
    "    \"Protein ID\"\n",
    "].to_list()\n",
    "ma_df.loc[\n",
    "    ma_df[\"species\"].str.contains(\"OS=Escherichia coli\")\n",
    "    & ~ma_df[\"species\"].str.contains(\"OS=Homo sapiens\"),\n",
    "    \"species\",\n",
    "] = \"E_coli\"\n",
    "ma_df.loc[\n",
    "    ~ma_df[\"species\"].str.contains(\"OS=Escherichia coli\")\n",
    "    & ma_df[\"species\"].str.contains(\"OS=Homo sapiens\"),\n",
    "    \"species\",\n",
    "] = \"H_sapiens\"\n",
    "ma_df.loc[~ma_df[\"species\"].str.contains(\"E_coli|H_sapiens\")] = \"Other\""
   ]
  },
  {
   "cell_type": "code",
   "execution_count": 9,
   "metadata": {
    "pycharm": {
     "is_executing": false,
     "name": "#%%\n"
    }
   },
   "outputs": [],
   "source": [
    "# Drop rows that never appear as top target\n",
    "top_target_cols = [c for c in ma_df.columns if \"top_target\" in c]\n",
    "ma_df[top_target_cols] = ma_df[top_target_cols].astype(bool)\n",
    "ma_df = ma_df[ma_df[top_target_cols].any(axis=1)]"
   ]
  },
  {
   "cell_type": "code",
   "execution_count": 10,
   "metadata": {
    "pycharm": {
     "is_executing": false,
     "name": "#%%\n"
    }
   },
   "outputs": [],
   "source": [
    "# Generate all and any engines\n",
    "for cut in q_val_cuts:\n",
    "    eng_cols_per_cut = [f\"top_target_{engine}_at_{cut}\" for engine in all_eng]\n",
    "\n",
    "    ma_df[f\"top_target_any_engine_at_{cut}\"] = False\n",
    "    ma_df.loc[\n",
    "        ma_df[eng_cols_per_cut].any(axis=1), f\"top_target_any_engine_at_{cut}\"\n",
    "    ] = True\n",
    "\n",
    "    ma_df[f\"top_target_all_engines_at_{cut}\"] = False\n",
    "    ma_df.loc[\n",
    "        ma_df[eng_cols_per_cut].all(axis=1), f\"top_target_all_engines_at_{cut}\"\n",
    "    ] = True"
   ]
  },
  {
   "cell_type": "code",
   "execution_count": 11,
   "metadata": {
    "pycharm": {
     "is_executing": false,
     "name": "#%%\n"
    }
   },
   "outputs": [],
   "source": [
    "all_eng = all_eng + [\"all_engines\", \"any_engine\"]\n",
    "\n",
    "for label, tmt in tmt_translation.items():\n",
    "    values = quant_df[quant_df[\"ISOTOPELABEL_ID\"] == int(label)][\n",
    "        [\"MSMS_ID\", \"QUANTVALUE\"]\n",
    "    ].astype({\"MSMS_ID\": \"int64\", \"QUANTVALUE\": \"float64\"})\n",
    "    # Remove missing spectra\n",
    "    values = values[values[\"MSMS_ID\"].isin(ma_df.index)]\n",
    "    ma_df.loc[values[\"MSMS_ID\"], tmt] = values[\"QUANTVALUE\"].to_list()"
   ]
  },
  {
   "cell_type": "code",
   "execution_count": 12,
   "metadata": {
    "pycharm": {
     "is_executing": false,
     "name": "#%%\n"
    }
   },
   "outputs": [],
   "source": [
    "# Remove all SpecIDs where quant value is 0 in a mixed column\n",
    "mixed_cols = [\"127L\", \"128L\", \"129L\", \"130L\", \"131L\"]\n",
    "ma_df = ma_df[~ma_df[mixed_cols].any(axis=1) == 0]\n",
    "\n",
    "# Remove all nan rows\n",
    "ma_df = ma_df[~ma_df[list(tmt_translation.values())].isna().all(axis=1)]"
   ]
  },
  {
   "cell_type": "code",
   "execution_count": null,
   "metadata": {
    "pycharm": {
     "is_executing": false,
     "name": "#%%\n"
    }
   },
   "outputs": [],
   "source": [
    "quotients = list(itertools.combinations(list(tmt_translation.values()), 2))\n",
    "\n",
    "# [TRISTAN] temp\n",
    "all_eng = [\"all_engines\", \"any_engine\", \"RF-reg\", \"omssa_2_1_9\"]"
   ]
  },
  {
   "cell_type": "code",
   "execution_count": null,
   "metadata": {
    "pycharm": {
     "is_executing": false,
     "name": "#%%\n"
    }
   },
   "outputs": [],
   "source": [
    "for ratio in quotients:\n",
    "    for species in [\"H_sapiens\", \"E_coli\"]:\n",
    "        if (\n",
    "            species == \"E_coli\"\n",
    "            and expected_values[ratio[1]][0] != 0\n",
    "            and expected_values[ratio[0]][0] != 0\n",
    "        ):\n",
    "            exp_y = np.log2(expected_values[ratio[0]][0] / expected_values[ratio[1]][0])\n",
    "        elif (\n",
    "            species == \"H_sapiens\"\n",
    "            and expected_values[ratio[1]][1] != 0\n",
    "            and expected_values[ratio[0]][1] != 0\n",
    "        ):\n",
    "            exp_y = np.log2(expected_values[ratio[0]][1] / expected_values[ratio[1]][1])\n",
    "        else:\n",
    "            continue\n",
    "        species_df = ma_df[ma_df[\"species\"] == species]\n",
    "        for cut in q_val_cuts:\n",
    "            plt.figure()\n",
    "            cols_oi = [f\"top_target_{eng}_at_{cut}\" for eng in all_eng]\n",
    "            df_plot = pd.DataFrame()\n",
    "\n",
    "            for c in cols_oi:\n",
    "                if species_df[c].sum() <= 1:\n",
    "                    continue\n",
    "\n",
    "                sub_df = species_df[species_df[c]]\n",
    "                # Get around RuntimeWarning for log2\n",
    "                sub_df = sub_df.replace(to_replace=0, value=1e-308)\n",
    "                df_eng = pd.DataFrame()\n",
    "                df_eng[\"x_axis\"] = 1e7 / (sub_df[ratio[0]] + sub_df[ratio[1]])\n",
    "                df_eng[\"y_axis\"] = np.log2(sub_df[ratio[0]] / sub_df[ratio[1]])\n",
    "                df_eng[\"engine\"] = c.split(\"top_target_\")[1].split(\"_at\")[0]\n",
    "                df_eng = df_eng[df_eng[\"x_axis\"] < 2]\n",
    "\n",
    "                if len(df_plot) == 0:\n",
    "                    df_plot = df_eng\n",
    "                else:\n",
    "                    df_plot = pd.concat([df_eng, df_plot])\n",
    "\n",
    "            plot = sns.lmplot(\n",
    "                x=\"x_axis\",\n",
    "                y=\"y_axis\",\n",
    "                hue=\"engine\",\n",
    "                data=df_plot,\n",
    "                x_bins=np.logspace(-2, 1, 20),\n",
    "                scatter_kws={\"s\": 20, \"alpha\": 0.5},\n",
    "                line_kws={\"lw\": 2},\n",
    "                x_ci=\"sd\",\n",
    "                markers=\"x\",\n",
    "                legend=False,\n",
    "            )\n",
    "            err_lines = [\n",
    "                l\n",
    "                for l in plot.ax.lines\n",
    "                if len(l.get_xdata()) == 2 and l.get_xdata()[0] == l.get_xdata()[1]\n",
    "            ]\n",
    "            for el in err_lines:\n",
    "                el.set_linewidth(1)\n",
    "                x_caps = el.get_xdata()[0]\n",
    "                y_caps = el.get_ydata()\n",
    "                position = {\n",
    "                    \"ha\": \"center\",\n",
    "                    \"va\": \"center\",\n",
    "                    \"size\": 20,\n",
    "                    \"color\": el.get_color(),\n",
    "                }\n",
    "                cap_lower = plot.ax.annotate(\"-\", xy=(x_caps, y_caps[0]), **position)\n",
    "                cap_upper = plot.ax.annotate(\"-\", xy=(x_caps, y_caps[1]), **position)\n",
    "\n",
    "            legend = plt.legend(loc=\"upper center\", bbox_to_anchor=(0.5, -0.2), ncol=3)\n",
    "            plot.ax.axhline(\n",
    "                exp_y, color=\"black\", linestyle=\"--\", linewidth=2, alpha=0.5\n",
    "            )\n",
    "            plot.ax.set_xlim(0.01, 2)\n",
    "            plot.set_axis_labels(\n",
    "                f\"1e7 / sum {ratio[0]}+{ratio[1]}\", f\"log2 {ratio[0]}x{ratio[1]}\"\n",
    "            )\n",
    "            plot.set(xscale=\"log\")\n",
    "            plot.fig.suptitle(f\"{ratio[0]}_{ratio[1]}_{species}_at_{cut}\")\n",
    "            plt.savefig(\n",
    "                f\"plots/ma/{ratio}_{species}_at_{cut}.png\",\n",
    "                bbox_extra_artists=[legend],\n",
    "                bbox_inches=\"tight\",\n",
    "                dpi=600,\n",
    "            )\n"
   ]
  },
  {
   "cell_type": "code",
   "execution_count": null,
   "metadata": {},
   "outputs": [],
   "source": [
    "print(\"Test\")"
   ]
  }
 ],
 "metadata": {
  "kernelspec": {
   "display_name": "Python 3",
   "language": "python",
   "name": "python3"
  },
  "language_info": {
   "codemirror_mode": {
    "name": "ipython",
    "version": 3
   },
   "file_extension": ".py",
   "mimetype": "text/x-python",
   "name": "python",
   "nbconvert_exporter": "python",
   "pygments_lexer": "ipython3",
   "version": "3.8.1"
  },
  "pycharm": {
   "stem_cell": {
    "cell_type": "raw",
    "metadata": {
     "collapsed": false
    },
    "source": []
   }
  }
 },
 "nbformat": 4,
 "nbformat_minor": 1
}
