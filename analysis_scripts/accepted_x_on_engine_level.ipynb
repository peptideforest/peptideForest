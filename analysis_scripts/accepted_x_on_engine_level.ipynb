{
 "cells": [
  {
   "cell_type": "code",
   "execution_count": null,
   "metadata": {},
   "outputs": [],
   "source": [
    "import numpy as np\n",
    "import pandas as pd\n",
    "import itertools\n",
    "import glob\n",
    "import peptide_forest\n",
    "pd.set_option(\"max_columns\", 1000)\n",
    "import plotly\n",
    "import plotly.graph_objs as go\n",
    "import plotly.offline as offline\n",
    "import plotly.io as pio\n",
    "pio.templates.default = \"plotly_white\""
   ]
  },
  {
   "cell_type": "code",
   "execution_count": null,
   "metadata": {},
   "outputs": [],
   "source": [
    "import ursgal\n",
    "ursgal.__version__"
   ]
  },
  {
   "cell_type": "markdown",
   "metadata": {},
   "source": [
    "# Reading percolator outputs"
   ]
  },
  {
   "cell_type": "code",
   "execution_count": null,
   "metadata": {},
   "outputs": [],
   "source": [
    "dfs = []\n",
    "for csv in glob.glob(\"../data/E32/*percolator_3_4_0_validated.csv\"):\n",
    "    _df = pd.read_csv(csv)\n",
    "#     _df['csv'] = csv\n",
    "    for e in ['mascot', 'msfragger', 'msgfplus', 'omssa', 'xtandem']:\n",
    "        if e in csv:\n",
    "            _df['engine'] = e\n",
    "    dfs.append(_df)\n",
    "df = pd.concat(dfs)"
   ]
  },
  {
   "cell_type": "code",
   "execution_count": null,
   "metadata": {},
   "outputs": [],
   "source": [
    "df.describe()"
   ]
  },
  {
   "cell_type": "code",
   "execution_count": null,
   "metadata": {},
   "outputs": [],
   "source": [
    "df['Modifications'].fillna('', inplace=True)\n"
   ]
  },
  {
   "cell_type": "code",
   "execution_count": null,
   "metadata": {},
   "outputs": [],
   "source": [
    "def create_seqmod(r):\n",
    "    if r['Modifications'] == '':\n",
    "        r_value = r['Sequence']\n",
    "    else:\n",
    "        r_value = r['Sequence'] + \"#\" + r['Modifications']\n",
    "    return r_value\n",
    "\n",
    "df['seq#mod'] = df.apply(create_seqmod, axis=1)\n",
    "df.head()"
   ]
  },
  {
   "cell_type": "code",
   "execution_count": null,
   "metadata": {},
   "outputs": [],
   "source": [
    "for name, grp in df.groupby('engine'):\n",
    "    print(name, grp[(~grp['Is decoy']) & (grp['q-value'] < 0.01)]['seq#mod'].nunique())"
   ]
  },
  {
   "cell_type": "code",
   "execution_count": null,
   "metadata": {},
   "outputs": [],
   "source": [
    "uc = ursgal.UController(verbose=False)\n",
    "venn_main = uc.unodes['venndiagram_1_1_0']['class'].import_engine_as_python_function()\n",
    "# ^-- this is ugly and our AirFlow nodes would make this prettier ! :)"
   ]
  },
  {
   "cell_type": "code",
   "execution_count": null,
   "metadata": {},
   "outputs": [],
   "source": [
    "data = []\n",
    "for name, grp in df.groupby('engine'):\n",
    "    data.append(\n",
    "        {\n",
    "            'label': name,\n",
    "            'data': set(grp[(~grp['Is decoy']) & (grp['q-value'] < 0.01)]['seq#mod'].tolist())\n",
    "        }\n",
    "    )\n",
    "\n",
    "results = venn_main(\n",
    "    data=data,\n",
    "    width=1500,\n",
    "    height=1500\n",
    "#     **default_kwargs\n",
    ")\n"
   ]
  },
  {
   "cell_type": "code",
   "execution_count": null,
   "metadata": {},
   "outputs": [],
   "source": [
    "from IPython.core.display import SVG\n",
    "SVG(filename=\"VennDiagram.svg\")"
   ]
  },
  {
   "cell_type": "markdown",
   "metadata": {},
   "source": [
    "# reading peptide forest output"
   ]
  },
  {
   "cell_type": "code",
   "execution_count": null,
   "metadata": {},
   "outputs": [],
   "source": [
    "output = \"../01Apr_E13.csv\"\n",
    "output = \"../01Apr_E32.csv\"\n",
    "final_df = pd.read_csv(output)\n",
    "final_df.Modifications.fillna(\"\", inplace=True)\n",
    "final_df['seq#mod'] = final_df.apply(create_seqmod, axis=1)"
   ]
  },
  {
   "cell_type": "code",
   "execution_count": null,
   "metadata": {},
   "outputs": [],
   "source": [
    "final_df.head()"
   ]
  },
  {
   "cell_type": "code",
   "execution_count": null,
   "metadata": {},
   "outputs": [],
   "source": [
    "all_eng = [\n",
    "    c.split(\"Score_processed_\")[1] for c in final_df.columns if \"Score_processed\" in c\n",
    "]"
   ]
  },
  {
   "cell_type": "code",
   "execution_count": null,
   "metadata": {},
   "outputs": [],
   "source": [
    "q_val_cuts = np.logspace(-4, -1, num=10)\n",
    "print(q_val_cuts)"
   ]
  },
  {
   "cell_type": "code",
   "execution_count": null,
   "metadata": {},
   "outputs": [],
   "source": [
    "color_set = {\n",
    "    0 : ['sandybrown', 'chocolate', 'goldenrod'],\n",
    "    1 : ['mediumvioletred', 'deeppink', 'lightpink'],\n",
    "    2 : ['blueviolet', 'orchid', 'plum'],\n",
    "    3 : ['royalblue', 'skyblue', 'slateblue'],\n",
    "    4 : ['olive', 'springgreen', 'lawngreen'],\n",
    "    5 : ['maroon', 'brown', 'sienna']\n",
    "}\n",
    "\n",
    "data = []\n",
    "for pos, eng in sorted(enumerate(all_eng)):\n",
    "    y = []\n",
    "    for q_value in q_val_cuts:\n",
    "        y.append(\n",
    "            final_df[(~final_df['Is decoy']) & (final_df[f'q-value_{eng}'] < q_value)]['seq#mod'].nunique()\n",
    "        )\n",
    "    data.append(\n",
    "        go.Scatter(\n",
    "            x=q_val_cuts, \n",
    "            y=y,\n",
    "            mode='lines+markers',\n",
    "            name=\"{0}\".format(eng),\n",
    "            line=dict(\n",
    "                color=color_set[pos][0]\n",
    "            )\n",
    "        )\n",
    "    )\n",
    "\n",
    "# for eng in all_eng:\n",
    "#     y = []\n",
    "#     for q_value in q_val_cuts:\n",
    "#         y.append(\n",
    "#             f2df[(~f2df['Is decoy']) & (f2df[f'q-value_{eng}'] < q_value)]['seq#mod'].nunique()\n",
    "#         )\n",
    "#     data.append(\n",
    "#         go.Scatter(\n",
    "#             x=q_val_cuts, \n",
    "#             y=y,\n",
    "#             mode='lines+markers',\n",
    "#             name=\"f2:{0}\".format(eng)\n",
    "#         )\n",
    "#     )    \n",
    "\n",
    "# for eng in all_eng:\n",
    "#     y = []\n",
    "#     if f'q-value_{eng}' not in f3df.columns:\n",
    "#         continue\n",
    "#     for q_value in q_val_cuts:\n",
    "#         y.append(\n",
    "#             f2df[(~f3df['Is decoy']) & (f3df[f'q-value_{eng}'] < q_value)]['seq#mod'].nunique()\n",
    "#         )\n",
    "#     data.append(\n",
    "#         go.Scatter(\n",
    "#             x=q_val_cuts, \n",
    "#             y=y,\n",
    "#             mode='lines+markers',\n",
    "#             name=\"{0}-training-without_msgf+\".format(eng)\n",
    "#         )\n",
    "#     )        \n",
    "\n",
    "for pos, (name, grp) in enumerate(sorted(df.groupby('engine'))):\n",
    "    y = []\n",
    "    for q_value in q_val_cuts:\n",
    "        y.append(\n",
    "            grp[(~grp['Is decoy']) & (grp['q-value'] < q_value)]['seq#mod'].nunique()\n",
    "        )\n",
    "    data.append(\n",
    "        go.Scatter(\n",
    "            x=q_val_cuts, \n",
    "            y=y,\n",
    "            mode='lines+markers',\n",
    "            name=\"{0}:percolator v3.4\".format(name),\n",
    "            line = dict(\n",
    "                dash='dash',\n",
    "                color=color_set[pos][1]\n",
    "            )\n",
    "        )\n",
    "    ) "
   ]
  },
  {
   "cell_type": "code",
   "execution_count": null,
   "metadata": {},
   "outputs": [],
   "source": []
  },
  {
   "cell_type": "code",
   "execution_count": null,
   "metadata": {},
   "outputs": [],
   "source": [
    "fig = go.Figure(data=data)\n",
    "fig.update_layout(\n",
    "    xaxis_type=\"log\",\n",
    "    xaxis_title='q-value',\n",
    "    yaxis_title='accepted unique seq#mod',\n",
    ")\n",
    "fig.show()"
   ]
  },
  {
   "cell_type": "markdown",
   "metadata": {},
   "source": [
    "# Comparing engine vanilla results"
   ]
  },
  {
   "cell_type": "code",
   "execution_count": null,
   "metadata": {},
   "outputs": [],
   "source": [
    "data = []\n",
    "# final_df[(~final_df['Is decoy']) & (final_df[f'q-value_{eng}'] < q_value)]['seq#mod'].nunique()\n",
    "q_value = 0.01\n",
    "\n",
    "for eng in all_eng:\n",
    "    if eng == 'RF-reg':\n",
    "        continue\n",
    "    data.append(\n",
    "        {\n",
    "            'label': eng,\n",
    "            'data': set(final_df[(~final_df['Is decoy']) & (final_df[f'q-value_{eng}'] < q_value)]['seq#mod'].tolist())\n",
    "        }\n",
    "    )\n",
    "\n",
    "results = venn_main(\n",
    "    data=data,\n",
    "    output_file=\"Venn_Comparison.svg\",\n",
    "    width = 1200,\n",
    "    height = 1000,\n",
    ")\n"
   ]
  },
  {
   "cell_type": "code",
   "execution_count": null,
   "metadata": {},
   "outputs": [],
   "source": [
    "from IPython.core.display import SVG\n",
    "SVG(filename=\"Venn_Comparison.svg\")"
   ]
  },
  {
   "cell_type": "markdown",
   "metadata": {},
   "source": [
    "# Score distributions"
   ]
  },
  {
   "cell_type": "code",
   "execution_count": null,
   "metadata": {},
   "outputs": [],
   "source": [
    "eng = \"mascot_1_0_0\"\n",
    "# eng = \"msfragger_20190222\"\n",
    "fig = plotly.subplots.make_subplots(specs=[[{\"secondary_y\": True}]])\n",
    "\n",
    "\n",
    "final_df.sort_values([f'Score_processed_{eng}'], inplace=True)\n",
    "fig.add_trace(\n",
    "    go.Histogram(\n",
    "        x= final_df[(~final_df['Is decoy']) & (final_df[f'Score_processed_{eng}'] > 5)][f'Score_processed_{eng}'],\n",
    "        name=\"target\"\n",
    "    )\n",
    ")\n",
    "fig.add_trace(\n",
    "    go.Histogram(\n",
    "        x=final_df[(final_df['Is decoy']) & (final_df[f'Score_processed_{eng}'] > 5)][f'Score_processed_{eng}'],\n",
    "        name=\"decoy\"\n",
    "    )\n",
    ")\n",
    "fig.add_trace(\n",
    "    go.Scatter(\n",
    "        x=final_df[\n",
    "            (final_df[f'Score_processed_{eng}'] > 5) & \\\n",
    "            (final_df[f'q-value_{eng}'] < 1)]\\\n",
    "        [f'Score_processed_{eng}'],\n",
    "        y=final_df[\n",
    "            (final_df[f'Score_processed_{eng}'] > 5) & \\\n",
    "             (final_df[f'q-value_{eng}'] < 1)]\\\n",
    "        [f'q-value_{eng}'],\n",
    "        name=\"q-value\",\n",
    "        marker_color='rgba(22, 22, 22, .9)'\n",
    " \n",
    "    ),\n",
    "    secondary_y=True\n",
    ")\n",
    "# Overlay both histograms\n",
    "fig.update_layout(\n",
    "    barmode='overlay',\n",
    "    title=f\"Score distribution for target and decoy for {eng}\"\n",
    ")\n",
    "fig.update_xaxes(title=\"Score processed\")\n",
    "fig.update_yaxes(title=\"Frequency\")\n",
    "fig.update_yaxes(title=\"q-value\", secondary_y=True)\n",
    "# Reduce opacity to see both histograms\n",
    "fig.update_traces(opacity=0.45)\n",
    "fig.show()"
   ]
  },
  {
   "cell_type": "code",
   "execution_count": null,
   "metadata": {},
   "outputs": [],
   "source": [
    "final_df[final_df['Spectrum ID'] == 14673]"
   ]
  },
  {
   "cell_type": "code",
   "execution_count": null,
   "metadata": {},
   "outputs": [],
   "source": []
  },
  {
   "cell_type": "code",
   "execution_count": null,
   "metadata": {},
   "outputs": [],
   "source": [
    "data = []\n",
    "for name in ['msgfplus', 'mascot']:\n",
    "    grp = df[df['engine'] == name]\n",
    "    data.append(\n",
    "        {\n",
    "            'label': \"{0}:percolator v3.4\".format(name),\n",
    "            'data': set(grp[(~grp['Is decoy']) & (grp['q-value'] < 0.01)]['seq#mod'].tolist())\n",
    "        }\n",
    "    )\n",
    "\n",
    "for name in ['RF-reg', 'mascot_1_0_0', 'msgfplus_v2018_06_28']:\n",
    "    data.append(\n",
    "        {\n",
    "            'label': name,\n",
    "            'data': set(final_df[(~final_df['Is decoy']) & (final_df[f'q-value_{name}'] < 0.01)]['seq#mod'].tolist())            \n",
    "        }\n",
    ")\n",
    "    \n",
    "results = venn_main(\n",
    "    data=data,\n",
    "#     **default_kwargs\n",
    ")\n"
   ]
  },
  {
   "cell_type": "code",
   "execution_count": null,
   "metadata": {},
   "outputs": [],
   "source": [
    "from IPython.core.display import SVG\n",
    "SVG(filename=\"VennDiagram.svg\")"
   ]
  },
  {
   "cell_type": "code",
   "execution_count": null,
   "metadata": {},
   "outputs": [],
   "source": []
  }
 ],
 "metadata": {
  "kernelspec": {
   "display_name": "Python 3",
   "language": "python",
   "name": "python3"
  },
  "language_info": {
   "codemirror_mode": {
    "name": "ipython",
    "version": 3
   },
   "file_extension": ".py",
   "mimetype": "text/x-python",
   "name": "python",
   "nbconvert_exporter": "python",
   "pygments_lexer": "ipython3",
   "version": "3.7.5"
  }
 },
 "nbformat": 4,
 "nbformat_minor": 2
}
