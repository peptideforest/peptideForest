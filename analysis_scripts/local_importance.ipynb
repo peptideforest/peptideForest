{
 "cells": [
  {
   "cell_type": "code",
   "execution_count": null,
   "metadata": {},
   "outputs": [],
   "source": [
    "import pandas as pd\n",
    "import matplotlib.pyplot as plt\n",
    "import seaborn as sns\n",
    "\n"
   ]
  },
  {
   "cell_type": "code",
   "execution_count": null,
   "metadata": {},
   "outputs": [],
   "source": [
    "peptide_forest_output = \"../9March.csv\"\n",
    "local_importance_output = \"../local_importance.csv\""
   ]
  },
  {
   "cell_type": "code",
   "execution_count": null,
   "metadata": {},
   "outputs": [],
   "source": [
    "local_importance = pd.read_csv(local_importance_output, index_col=0)\n",
    "df_training = pd.read_csv(peptide_forest_output)\n",
    "feature_cols_top = local_importance.columns.to_list()\n",
    "feature_cols_top"
   ]
  },
  {
   "cell_type": "code",
   "execution_count": null,
   "metadata": {},
   "outputs": [],
   "source": [
    "q_val_cols = [c for c in df_training if \"q-value\" in c and \"RF-reg\" not in c]\n",
    "local_importance[\"q-engines_mean\"] = df_training[q_val_cols].mean(axis=1)\n",
    "local_importance[\"q-RF-reg\"] = df_training[\"q-value_RF-reg\"]\n",
    "local_importance[\"diff\"] = local_importance[\"q-engines_mean\"].between(0.15,1) & local_importance[\"q-RF-reg\"].between(0, 0.05)\n",
    "\n",
    "diff_means = pd.DataFrame(local_importance[local_importance[\"diff\"]][feature_cols_top].mean(axis=0).rename(\"feature_importance\"))\n",
    "diff_means[\"difference\"] = \"Bad hits by engines are now good hit for RF\"\n",
    "same_means = pd.DataFrame(local_importance[~local_importance[\"diff\"]][feature_cols_top].mean(axis=0).rename(\"feature_importance\"))\n",
    "same_means[\"difference\"] = \"Good hits by engines are now bad hit for RF\"\n",
    "df_plot = pd.concat([same_means, diff_means], axis=0).reset_index()\n",
    "ax = sns.barplot(x=\"index\", y=\"feature_importance\", hue=\"difference\", data=df_plot)\n",
    "ax.set_xticklabels(ax.get_xticklabels(), rotation=90)\n",
    "ax.set_yscale(\"log\")\n",
    "plt.legend(bbox_to_anchor=(1.05, 1), loc=2, borderaxespad=0.)\n",
    "plt.show()"
   ]
  },
  {
   "cell_type": "code",
   "execution_count": null,
   "metadata": {},
   "outputs": [],
   "source": []
  }
 ],
 "metadata": {
  "kernelspec": {
   "display_name": "Python 3",
   "language": "python",
   "name": "python3"
  },
  "language_info": {
   "codemirror_mode": {
    "name": "ipython",
    "version": 3
   },
   "file_extension": ".py",
   "mimetype": "text/x-python",
   "name": "python",
   "nbconvert_exporter": "python",
   "pygments_lexer": "ipython3",
   "version": "3.7.5"
  },
  "pycharm": {
   "stem_cell": {
    "cell_type": "raw",
    "metadata": {
     "collapsed": false
    },
    "source": []
   }
  }
 },
 "nbformat": 4,
 "nbformat_minor": 1
}
