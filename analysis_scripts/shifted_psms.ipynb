{
 "cells": [
  {
   "cell_type": "code",
   "execution_count": null,
   "metadata": {},
   "outputs": [],
   "source": [
    "import numpy as np\n",
    "import pandas as pd\n",
    "import itertools\n",
    "# import matplotlib.pyplot as plt\n",
    "# import seaborn as sns\n",
    "import os\n",
    "\n",
    "import peptide_forest\n",
    "pd.set_option(\"max_columns\", 1000)\n",
    "import plotly\n",
    "import plotly.graph_objs as go\n",
    "import plotly.offline as offline\n"
   ]
  },
  {
   "cell_type": "code",
   "execution_count": null,
   "metadata": {},
   "outputs": [],
   "source": [
    "# quant_df = pd.read_csv(\"../data/_quant_new/04854_F1_R8_P0109699E13_TMT10_quant_pots.csv\", index_col=0)\n",
    "# output = \"01Apr_E13.csv\"\n",
    "output = \"01Apr_E50.csv\"\n",
    "# local_importance_output = \"../01Apr_E50.csv_local_importance.csv\"\n",
    "final_df = pd.read_csv(\"../\" + output)\n",
    "base_dir = os.path.basename(output) + \"shifted_psms\"\n",
    "if os.path.exists(base_dir) is False:\n",
    "    os.mkdir(base_dir)"
   ]
  },
  {
   "cell_type": "code",
   "execution_count": null,
   "metadata": {},
   "outputs": [],
   "source": [
    "final_df.head()"
   ]
  },
  {
   "cell_type": "markdown",
   "metadata": {},
   "source": [
    "## Rank comparison for spectra that have been assigned the same identification"
   ]
  },
  {
   "cell_type": "code",
   "execution_count": null,
   "metadata": {},
   "outputs": [],
   "source": [
    "engines = dict([(c.replace(\"q-value_\",\"\"), {}) for c in final_df.columns if \"q-value\" in c])\n",
    "engines"
   ]
  },
  {
   "cell_type": "code",
   "execution_count": null,
   "metadata": {},
   "outputs": [],
   "source": [
    "for e in engines.keys():\n",
    "    engines[e]['idxmin@0.01'] = final_df[f'q-value_{e}'].sort_values().sub(0.01).abs().idxmin()\n",
    "    engines[e]['idxmin@0.05'] = final_df[f'q-value_{e}'].sort_values().sub(0.05).abs().idxmin()"
   ]
  },
  {
   "cell_type": "markdown",
   "metadata": {},
   "source": [
    "TODO: scale plots to be squarred :)"
   ]
  },
  {
   "cell_type": "code",
   "execution_count": null,
   "metadata": {},
   "outputs": [],
   "source": [
    "q_value_cutoff = 0.05\n",
    "for e1, e2 in itertools.combinations(engines.keys(), 2):\n",
    "    mask = (final_df[f'q-value_{e1}'] < q_value_cutoff) & (final_df[f'q-value_{e2}'] < q_value_cutoff)\n",
    "    print(e1, final_df[mask][f'rank_{e1}'].count())\n",
    "    print(e2, final_df[mask][f'rank_{e2}'].count())\n",
    "    "
   ]
  },
  {
   "cell_type": "code",
   "execution_count": null,
   "metadata": {},
   "outputs": [],
   "source": [
    "df = final_df\n",
    "df[df['Spectrum ID'] == 36155]"
   ]
  },
  {
   "cell_type": "code",
   "execution_count": null,
   "metadata": {},
   "outputs": [],
   "source": [
    "df.sort_values([\"q-value_mascot_1_0_0\"])"
   ]
  },
  {
   "cell_type": "code",
   "execution_count": null,
   "metadata": {},
   "outputs": [],
   "source": [
    "q_value_cutoff = 0.10\n",
    "# for e1, e2 in itertools.permutations(engines.keys(), 2):   # sanity check ;)\n",
    "for e1, e2 in itertools.combinations(engines.keys(), 2):\n",
    "    mask = (final_df[f'q-value_{e1}'] < q_value_cutoff) & (final_df[f'q-value_{e2}'] < q_value_cutoff)\n",
    "\n",
    "    data = [\n",
    "        go.Scattergl(\n",
    "            x=final_df[mask][f'rank_{e1}'], \n",
    "            y=final_df[mask][f'rank_{e2}'],\n",
    "            mode='markers',\n",
    "            marker=dict(\n",
    "                size=3,\n",
    "                color=final_df[mask][f'q-value_{e1}'],\n",
    "                colorscale='rainbow',\n",
    "                colorbar=dict(\n",
    "                    title=f'q-value_{e1}'\n",
    "                ),\n",
    "                showscale=True\n",
    "            ),\n",
    "            hovertext = \"Q-values<br />\" + \\\n",
    "            \"Mascot:    \" + final_df[mask][\"q-value_mascot_1_0_0\"].astype(str) + \"<br />\" + \\\n",
    "            \"OMSSA:     \" + final_df[mask][\"q-value_omssa_2_1_9\"].astype(str) + \"<br />\" + \\\n",
    "            \"MSGF+:     \" + final_df[mask][\"q-value_msgfplus_v2018_06_28\"].astype(str) + \"<br />\" + \\\n",
    "            \"X!Tandem:  \" + final_df[mask][\"q-value_xtandem_vengeance\"].astype(str) + \"<br />\" + \\\n",
    "            \"MSFragger: \" + final_df[mask][\"q-value_msfragger_20190222\"].astype(str) + \"<br />\" + \\\n",
    "            \"RF:        \" + final_df[mask][\"q-value_RF-reg\"].astype(str) + \"<br />\" + \\\n",
    "            \"Spectrum ID: \" + final_df[mask]['Spectrum ID'].astype(str)\n",
    "            ,\n",
    "            hoverinfo = \"text\"\n",
    "        ),\n",
    "    ]\n",
    "    fig = go.Figure(\n",
    "        data=data\n",
    "    )\n",
    "    fig.add_shape(\n",
    "            dict(\n",
    "                type=\"line\",\n",
    "                x0=final_df.loc[engines[e1]['idxmin@0.01'], f'rank_{e1}'],\n",
    "                y0=0,\n",
    "                x1=final_df.loc[engines[e1]['idxmin@0.01'], f'rank_{e1}'],\n",
    "                y1=final_df[mask][f\"rank_{e2}\"].max(),\n",
    "                line=dict(\n",
    "                    color=\"Black\",\n",
    "                    width=1\n",
    "                )\n",
    "    ))\n",
    "    fig.add_shape(\n",
    "            dict(\n",
    "                type=\"line\",\n",
    "                x0=0,\n",
    "                y0=final_df.loc[engines[e2]['idxmin@0.01'], f'rank_{e2}'],\n",
    "                x1=final_df[mask][f\"rank_{e1}\"].max(),\n",
    "                y1=final_df.loc[engines[e2]['idxmin@0.01'], f'rank_{e2}'],\n",
    "                line=dict(\n",
    "                    color=\"Black\",\n",
    "                    width=1\n",
    "                )\n",
    "    ))\n",
    "    fig.update_layout(\n",
    "        template=\"plotly_white\", \n",
    "        title=f\"Ranks: {e1} vs {e2}\",\n",
    "        xaxis_title=f\"Rank {e1}\",\n",
    "        yaxis_title=f\"Rank {e2}\",\n",
    "\n",
    "    )\n",
    "    offline.plot(fig, filename=f'{base_dir}/ranks_{e1}_vs_{e2}.html', auto_open=False)\n",
    "#     fig.show() # That crashes my browser after a few plots :)\n",
    "#     break"
   ]
  },
  {
   "cell_type": "code",
   "execution_count": null,
   "metadata": {},
   "outputs": [],
   "source": [
    "engines"
   ]
  },
  {
   "cell_type": "code",
   "execution_count": null,
   "metadata": {},
   "outputs": [],
   "source": [
    "for e in engines.keys():\n",
    "    print(e)\n",
    "    for k, idx in engines[e].items():\n",
    "        print(\"{0}: {1: 10d} q-value: {2:.5f} - rank: {3}\".format(\n",
    "            k, \n",
    "            idx, \n",
    "            final_df.loc[idx, f'q-value_{e}'], \n",
    "            final_df.loc[idx, f'rank_{e}']\n",
    "        ))\n",
    "        print()"
   ]
  },
  {
   "cell_type": "code",
   "execution_count": null,
   "metadata": {},
   "outputs": [],
   "source": [
    "plotly_color_scales = ['aggrnyl', 'agsunset', 'algae', 'amp', 'armyrose', 'balance',\n",
    "             'blackbody', 'bluered', 'blues', 'blugrn', 'bluyl', 'brbg',\n",
    "             'brwnyl', 'bugn', 'bupu', 'burg', 'burgyl', 'cividis', 'curl',\n",
    "             'darkmint', 'deep', 'delta', 'dense', 'earth', 'edge', 'electric',\n",
    "             'emrld', 'fall', 'geyser', 'gnbu', 'gray', 'greens', 'greys',\n",
    "             'haline', 'hot', 'hsv', 'ice', 'icefire', 'inferno', 'jet',\n",
    "             'magenta', 'magma', 'matter', 'mint', 'mrybm', 'mygbm', 'oranges',\n",
    "             'orrd', 'oryel', 'peach', 'phase', 'picnic', 'pinkyl', 'piyg',\n",
    "             'plasma', 'plotly3', 'portland', 'prgn', 'pubu', 'pubugn', 'puor',\n",
    "             'purd', 'purp', 'purples', 'purpor', 'rainbow', 'rdbu', 'rdgy',\n",
    "             'rdpu', 'rdylbu', 'rdylgn', 'redor', 'reds', 'solar', 'spectral',\n",
    "             'speed', 'sunset', 'sunsetdark', 'teal', 'tealgrn', 'tealrose',\n",
    "             'tempo', 'temps', 'thermal', 'tropic', 'turbid', 'twilight',\n",
    "             'viridis', 'ylgn', 'ylgnbu', 'ylorbr', 'ylorrd']"
   ]
  },
  {
   "cell_type": "code",
   "execution_count": null,
   "metadata": {},
   "outputs": [],
   "source": []
  }
 ],
 "metadata": {
  "kernelspec": {
   "display_name": "Python 3",
   "language": "python",
   "name": "python3"
  },
  "language_info": {
   "codemirror_mode": {
    "name": "ipython",
    "version": 3
   },
   "file_extension": ".py",
   "mimetype": "text/x-python",
   "name": "python",
   "nbconvert_exporter": "python",
   "pygments_lexer": "ipython3",
   "version": "3.7.5"
  }
 },
 "nbformat": 4,
 "nbformat_minor": 2
}
